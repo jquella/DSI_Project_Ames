{
 "cells": [
  {
   "cell_type": "markdown",
   "metadata": {},
   "source": [
    "# Project 2: Predicting Ames, IA housing prices"
   ]
  },
  {
   "cell_type": "markdown",
   "metadata": {},
   "source": [
    "**NB:** This is my 2nd notebook. See `project-2_JQ.ipynb` for reference to original EDA and first model(s) efforts or supplemental reference. So far best Kaggle submission is based of RidgeCV model (as submission3) in that notebook."
   ]
  },
  {
   "cell_type": "markdown",
   "metadata": {},
   "source": [
    "## 1. Define Question\n",
    "**Question:** Can we predict housing prices in Ames, IA to make sure I'm not underselling my house given its features?"
   ]
  },
  {
   "cell_type": "markdown",
   "metadata": {},
   "source": [
    "## 2. Get Data"
   ]
  },
  {
   "cell_type": "code",
   "execution_count": 75,
   "metadata": {},
   "outputs": [],
   "source": [
    "### IMPORT FEST!!\n",
    "import numpy as np\n",
    "import pandas as pd\n",
    "import matplotlib.pyplot as plt\n",
    "import seaborn as sns\n",
    "import scipy.stats as stats\n",
    "import sklearn.metrics as metrics\n",
    "\n",
    "%matplotlib inline"
   ]
  },
  {
   "cell_type": "code",
   "execution_count": 76,
   "metadata": {},
   "outputs": [],
   "source": [
    "## Here are a couple Python files I wrote with some handy functions for EDA/cleaning and plotting\n",
    "## See help(notebook_starter) and help(plotter) for more info.\n",
    "from notebook_starter import *\n",
    "import notebook_starter\n",
    "\n",
    "from plotter import *\n",
    "import plotter"
   ]
  },
  {
   "cell_type": "code",
   "execution_count": 77,
   "metadata": {
    "scrolled": true
   },
   "outputs": [
    {
     "data": {
      "text/html": [
       "<div>\n",
       "<style scoped>\n",
       "    .dataframe tbody tr th:only-of-type {\n",
       "        vertical-align: middle;\n",
       "    }\n",
       "\n",
       "    .dataframe tbody tr th {\n",
       "        vertical-align: top;\n",
       "    }\n",
       "\n",
       "    .dataframe thead th {\n",
       "        text-align: right;\n",
       "    }\n",
       "</style>\n",
       "<table border=\"1\" class=\"dataframe\">\n",
       "  <thead>\n",
       "    <tr style=\"text-align: right;\">\n",
       "      <th></th>\n",
       "      <th>Id</th>\n",
       "      <th>PID</th>\n",
       "      <th>MS SubClass</th>\n",
       "      <th>MS Zoning</th>\n",
       "      <th>Lot Frontage</th>\n",
       "      <th>Lot Area</th>\n",
       "      <th>Street</th>\n",
       "      <th>Alley</th>\n",
       "      <th>Lot Shape</th>\n",
       "      <th>Land Contour</th>\n",
       "      <th>...</th>\n",
       "      <th>Screen Porch</th>\n",
       "      <th>Pool Area</th>\n",
       "      <th>Pool QC</th>\n",
       "      <th>Fence</th>\n",
       "      <th>Misc Feature</th>\n",
       "      <th>Misc Val</th>\n",
       "      <th>Mo Sold</th>\n",
       "      <th>Yr Sold</th>\n",
       "      <th>Sale Type</th>\n",
       "      <th>SalePrice</th>\n",
       "    </tr>\n",
       "  </thead>\n",
       "  <tbody>\n",
       "    <tr>\n",
       "      <th>0</th>\n",
       "      <td>109</td>\n",
       "      <td>533352170</td>\n",
       "      <td>60</td>\n",
       "      <td>RL</td>\n",
       "      <td>NaN</td>\n",
       "      <td>13517</td>\n",
       "      <td>Pave</td>\n",
       "      <td>NaN</td>\n",
       "      <td>IR1</td>\n",
       "      <td>Lvl</td>\n",
       "      <td>...</td>\n",
       "      <td>0</td>\n",
       "      <td>0</td>\n",
       "      <td>NaN</td>\n",
       "      <td>NaN</td>\n",
       "      <td>NaN</td>\n",
       "      <td>0</td>\n",
       "      <td>3</td>\n",
       "      <td>2010</td>\n",
       "      <td>WD</td>\n",
       "      <td>130500</td>\n",
       "    </tr>\n",
       "    <tr>\n",
       "      <th>1</th>\n",
       "      <td>544</td>\n",
       "      <td>531379050</td>\n",
       "      <td>60</td>\n",
       "      <td>RL</td>\n",
       "      <td>43.0</td>\n",
       "      <td>11492</td>\n",
       "      <td>Pave</td>\n",
       "      <td>NaN</td>\n",
       "      <td>IR1</td>\n",
       "      <td>Lvl</td>\n",
       "      <td>...</td>\n",
       "      <td>0</td>\n",
       "      <td>0</td>\n",
       "      <td>NaN</td>\n",
       "      <td>NaN</td>\n",
       "      <td>NaN</td>\n",
       "      <td>0</td>\n",
       "      <td>4</td>\n",
       "      <td>2009</td>\n",
       "      <td>WD</td>\n",
       "      <td>220000</td>\n",
       "    </tr>\n",
       "    <tr>\n",
       "      <th>2</th>\n",
       "      <td>153</td>\n",
       "      <td>535304180</td>\n",
       "      <td>20</td>\n",
       "      <td>RL</td>\n",
       "      <td>68.0</td>\n",
       "      <td>7922</td>\n",
       "      <td>Pave</td>\n",
       "      <td>NaN</td>\n",
       "      <td>Reg</td>\n",
       "      <td>Lvl</td>\n",
       "      <td>...</td>\n",
       "      <td>0</td>\n",
       "      <td>0</td>\n",
       "      <td>NaN</td>\n",
       "      <td>NaN</td>\n",
       "      <td>NaN</td>\n",
       "      <td>0</td>\n",
       "      <td>1</td>\n",
       "      <td>2010</td>\n",
       "      <td>WD</td>\n",
       "      <td>109000</td>\n",
       "    </tr>\n",
       "    <tr>\n",
       "      <th>3</th>\n",
       "      <td>318</td>\n",
       "      <td>916386060</td>\n",
       "      <td>60</td>\n",
       "      <td>RL</td>\n",
       "      <td>73.0</td>\n",
       "      <td>9802</td>\n",
       "      <td>Pave</td>\n",
       "      <td>NaN</td>\n",
       "      <td>Reg</td>\n",
       "      <td>Lvl</td>\n",
       "      <td>...</td>\n",
       "      <td>0</td>\n",
       "      <td>0</td>\n",
       "      <td>NaN</td>\n",
       "      <td>NaN</td>\n",
       "      <td>NaN</td>\n",
       "      <td>0</td>\n",
       "      <td>4</td>\n",
       "      <td>2010</td>\n",
       "      <td>WD</td>\n",
       "      <td>174000</td>\n",
       "    </tr>\n",
       "    <tr>\n",
       "      <th>4</th>\n",
       "      <td>255</td>\n",
       "      <td>906425045</td>\n",
       "      <td>50</td>\n",
       "      <td>RL</td>\n",
       "      <td>82.0</td>\n",
       "      <td>14235</td>\n",
       "      <td>Pave</td>\n",
       "      <td>NaN</td>\n",
       "      <td>IR1</td>\n",
       "      <td>Lvl</td>\n",
       "      <td>...</td>\n",
       "      <td>0</td>\n",
       "      <td>0</td>\n",
       "      <td>NaN</td>\n",
       "      <td>NaN</td>\n",
       "      <td>NaN</td>\n",
       "      <td>0</td>\n",
       "      <td>3</td>\n",
       "      <td>2010</td>\n",
       "      <td>WD</td>\n",
       "      <td>138500</td>\n",
       "    </tr>\n",
       "  </tbody>\n",
       "</table>\n",
       "<p>5 rows × 81 columns</p>\n",
       "</div>"
      ],
      "text/plain": [
       "    Id        PID  MS SubClass MS Zoning  Lot Frontage  Lot Area Street Alley  \\\n",
       "0  109  533352170           60        RL           NaN     13517   Pave   NaN   \n",
       "1  544  531379050           60        RL          43.0     11492   Pave   NaN   \n",
       "2  153  535304180           20        RL          68.0      7922   Pave   NaN   \n",
       "3  318  916386060           60        RL          73.0      9802   Pave   NaN   \n",
       "4  255  906425045           50        RL          82.0     14235   Pave   NaN   \n",
       "\n",
       "  Lot Shape Land Contour    ...     Screen Porch Pool Area Pool QC Fence  \\\n",
       "0       IR1          Lvl    ...                0         0     NaN   NaN   \n",
       "1       IR1          Lvl    ...                0         0     NaN   NaN   \n",
       "2       Reg          Lvl    ...                0         0     NaN   NaN   \n",
       "3       Reg          Lvl    ...                0         0     NaN   NaN   \n",
       "4       IR1          Lvl    ...                0         0     NaN   NaN   \n",
       "\n",
       "  Misc Feature Misc Val Mo Sold Yr Sold  Sale Type  SalePrice  \n",
       "0          NaN        0       3    2010        WD      130500  \n",
       "1          NaN        0       4    2009        WD      220000  \n",
       "2          NaN        0       1    2010        WD      109000  \n",
       "3          NaN        0       4    2010        WD      174000  \n",
       "4          NaN        0       3    2010        WD      138500  \n",
       "\n",
       "[5 rows x 81 columns]"
      ]
     },
     "execution_count": 77,
     "metadata": {},
     "output_type": "execute_result"
    }
   ],
   "source": [
    "#Let's read in the data!\n",
    "train = pd.read_csv('./train.csv')\n",
    "train.head()"
   ]
  },
  {
   "cell_type": "code",
   "execution_count": 78,
   "metadata": {},
   "outputs": [
    {
     "data": {
      "text/plain": [
       "(2051, 81)"
      ]
     },
     "execution_count": 78,
     "metadata": {},
     "output_type": "execute_result"
    }
   ],
   "source": [
    "train.shape"
   ]
  },
  {
   "cell_type": "code",
   "execution_count": 79,
   "metadata": {
    "scrolled": false
   },
   "outputs": [],
   "source": [
    "# train.info()"
   ]
  },
  {
   "cell_type": "code",
   "execution_count": 80,
   "metadata": {},
   "outputs": [],
   "source": [
    "## per Adam, TTS-ing before I do anything else, now that I have my data!\n",
    "from sklearn.cross_validation import train_test_split\n",
    "X = train.drop('SalePrice', axis=1)\n",
    "y = train['SalePrice']\n",
    "X_train, X_test, y_train, y_test = train_test_split(X, y, random_state=19)"
   ]
  },
  {
   "cell_type": "markdown",
   "metadata": {},
   "source": [
    "## 3. Explore data"
   ]
  },
  {
   "cell_type": "code",
   "execution_count": 81,
   "metadata": {},
   "outputs": [
    {
     "data": {
      "text/html": [
       "<div>\n",
       "<style scoped>\n",
       "    .dataframe tbody tr th:only-of-type {\n",
       "        vertical-align: middle;\n",
       "    }\n",
       "\n",
       "    .dataframe tbody tr th {\n",
       "        vertical-align: top;\n",
       "    }\n",
       "\n",
       "    .dataframe thead th {\n",
       "        text-align: right;\n",
       "    }\n",
       "</style>\n",
       "<table border=\"1\" class=\"dataframe\">\n",
       "  <thead>\n",
       "    <tr style=\"text-align: right;\">\n",
       "      <th></th>\n",
       "      <th>Id</th>\n",
       "      <th>PID</th>\n",
       "      <th>MS SubClass</th>\n",
       "      <th>MS Zoning</th>\n",
       "      <th>Lot Frontage</th>\n",
       "      <th>Lot Area</th>\n",
       "      <th>Street</th>\n",
       "      <th>Alley</th>\n",
       "      <th>Lot Shape</th>\n",
       "      <th>Land Contour</th>\n",
       "      <th>...</th>\n",
       "      <th>Screen Porch</th>\n",
       "      <th>Pool Area</th>\n",
       "      <th>Pool QC</th>\n",
       "      <th>Fence</th>\n",
       "      <th>Misc Feature</th>\n",
       "      <th>Misc Val</th>\n",
       "      <th>Mo Sold</th>\n",
       "      <th>Yr Sold</th>\n",
       "      <th>Sale Type</th>\n",
       "      <th>SalePrice</th>\n",
       "    </tr>\n",
       "  </thead>\n",
       "  <tbody>\n",
       "    <tr>\n",
       "      <th>1611</th>\n",
       "      <td>879</td>\n",
       "      <td>907290210</td>\n",
       "      <td>120</td>\n",
       "      <td>RM</td>\n",
       "      <td>NaN</td>\n",
       "      <td>4435</td>\n",
       "      <td>Pave</td>\n",
       "      <td>NaN</td>\n",
       "      <td>Reg</td>\n",
       "      <td>Lvl</td>\n",
       "      <td>...</td>\n",
       "      <td>0</td>\n",
       "      <td>0</td>\n",
       "      <td>NaN</td>\n",
       "      <td>NaN</td>\n",
       "      <td>NaN</td>\n",
       "      <td>0</td>\n",
       "      <td>5</td>\n",
       "      <td>2009</td>\n",
       "      <td>WD</td>\n",
       "      <td>140000</td>\n",
       "    </tr>\n",
       "    <tr>\n",
       "      <th>754</th>\n",
       "      <td>645</td>\n",
       "      <td>535304100</td>\n",
       "      <td>20</td>\n",
       "      <td>RL</td>\n",
       "      <td>67.0</td>\n",
       "      <td>13070</td>\n",
       "      <td>Pave</td>\n",
       "      <td>NaN</td>\n",
       "      <td>Reg</td>\n",
       "      <td>Lvl</td>\n",
       "      <td>...</td>\n",
       "      <td>255</td>\n",
       "      <td>0</td>\n",
       "      <td>NaN</td>\n",
       "      <td>NaN</td>\n",
       "      <td>NaN</td>\n",
       "      <td>0</td>\n",
       "      <td>10</td>\n",
       "      <td>2009</td>\n",
       "      <td>WD</td>\n",
       "      <td>126000</td>\n",
       "    </tr>\n",
       "    <tr>\n",
       "      <th>1948</th>\n",
       "      <td>2891</td>\n",
       "      <td>914476500</td>\n",
       "      <td>90</td>\n",
       "      <td>RL</td>\n",
       "      <td>82.0</td>\n",
       "      <td>11070</td>\n",
       "      <td>Pave</td>\n",
       "      <td>NaN</td>\n",
       "      <td>Reg</td>\n",
       "      <td>Lvl</td>\n",
       "      <td>...</td>\n",
       "      <td>0</td>\n",
       "      <td>0</td>\n",
       "      <td>NaN</td>\n",
       "      <td>NaN</td>\n",
       "      <td>NaN</td>\n",
       "      <td>0</td>\n",
       "      <td>7</td>\n",
       "      <td>2006</td>\n",
       "      <td>WD</td>\n",
       "      <td>171000</td>\n",
       "    </tr>\n",
       "  </tbody>\n",
       "</table>\n",
       "<p>3 rows × 81 columns</p>\n",
       "</div>"
      ],
      "text/plain": [
       "        Id        PID  MS SubClass MS Zoning  Lot Frontage  Lot Area Street  \\\n",
       "1611   879  907290210          120        RM           NaN      4435   Pave   \n",
       "754    645  535304100           20        RL          67.0     13070   Pave   \n",
       "1948  2891  914476500           90        RL          82.0     11070   Pave   \n",
       "\n",
       "     Alley Lot Shape Land Contour    ...     Screen Porch Pool Area Pool QC  \\\n",
       "1611   NaN       Reg          Lvl    ...                0         0     NaN   \n",
       "754    NaN       Reg          Lvl    ...              255         0     NaN   \n",
       "1948   NaN       Reg          Lvl    ...                0         0     NaN   \n",
       "\n",
       "     Fence Misc Feature Misc Val Mo Sold Yr Sold  Sale Type  SalePrice  \n",
       "1611   NaN          NaN        0       5    2009        WD      140000  \n",
       "754    NaN          NaN        0      10    2009        WD      126000  \n",
       "1948   NaN          NaN        0       7    2006        WD      171000  \n",
       "\n",
       "[3 rows x 81 columns]"
      ]
     },
     "execution_count": 81,
     "metadata": {},
     "output_type": "execute_result"
    }
   ],
   "source": [
    "## putting target variable back together on feature set for full exploratory dataset. \n",
    "## we will end up doing the same cleaning step\n",
    "eda_df = pd.concat([X_train,y_train], axis=1)\n",
    "eda_df.head(3)"
   ]
  },
  {
   "cell_type": "code",
   "execution_count": 82,
   "metadata": {},
   "outputs": [
    {
     "data": {
      "text/plain": [
       "(1538, 81)"
      ]
     },
     "execution_count": 82,
     "metadata": {},
     "output_type": "execute_result"
    }
   ],
   "source": [
    "eda_df.shape"
   ]
  },
  {
   "cell_type": "code",
   "execution_count": 83,
   "metadata": {},
   "outputs": [
    {
     "data": {
      "image/png": "[encoded data removed]",
      "text/plain": [
       "<Figure size 432x288 with 1 Axes>"
      ]
     },
     "metadata": {},
     "output_type": "display_data"
    }
   ],
   "source": [
    "sns.heatmap(eda_df.isnull(), cbar=False);\n",
    "plt.title('Null Values by Feature\\n', fontsize=18, weight='bold');\n",
    "plt.tick_params(labelcolor='white');"
   ]
  },
  {
   "cell_type": "markdown",
   "metadata": {},
   "source": [
    "### CLEANER FUNCTION:\n",
    "- Below, I'm going to keep adding steps to this as I clean this dataset, so I can run the same on test data."
   ]
  },
  {
   "cell_type": "code",
   "execution_count": 84,
   "metadata": {},
   "outputs": [],
   "source": [
    "# def null_filler(df):\n",
    "#     lotfill = df.loc[df[df['Lot Frontage'].isnull()].index, 'Lot Shape'].map(df.groupby('Lot Shape').agg('mean')['Lot Frontage'])\n",
    "\n",
    "#     df.loc[:,'Lot Frontage'] = df.loc[:,'Lot Frontage'].fillna(lotfill)\n",
    "    \n",
    "#     df = df.fillna(df.mean())"
   ]
  },
  {
   "cell_type": "code",
   "execution_count": 85,
   "metadata": {},
   "outputs": [],
   "source": [
    "# def column_dropper1(df):\n",
    "#     df = df.drop(['Pool QC', 'Misc Feature', 'Alley', 'Fence', 'Fireplace Qu'], axis=1)"
   ]
  },
  {
   "cell_type": "code",
   "execution_count": 86,
   "metadata": {},
   "outputs": [],
   "source": [
    "# def column_dropper2(df):\n",
    "#     drop_cols = ['Id', 'PID', 'MS SubClass', 'Year Built', 'Year Remod/Add', 'Garage Yr Blt', 'Mo Sold', 'Yr Sold', 'Overall Qual', 'Overall Cond']\n",
    "#     df = df.loc[:,numeric_cols].drop(drop_cols, axis=1, inplace=True)   "
   ]
  },
  {
   "cell_type": "code",
   "execution_count": 87,
   "metadata": {},
   "outputs": [
    {
     "data": {
      "text/plain": [
       "Pool QC           0.996099\n",
       "Misc Feature      0.971391\n",
       "Alley             0.934330\n",
       "Fence             0.812094\n",
       "Fireplace Qu      0.490897\n",
       "Lot Frontage      0.163199\n",
       "Garage Yr Blt     0.057867\n",
       "Garage Cond       0.057867\n",
       "Garage Qual       0.057867\n",
       "Garage Finish     0.057867\n",
       "Garage Type       0.057217\n",
       "Bsmt Exposure     0.025358\n",
       "BsmtFin Type 2    0.024707\n",
       "Bsmt Cond         0.024057\n",
       "Bsmt Qual         0.024057\n",
       "BsmtFin Type 1    0.024057\n",
       "Mas Vnr Type      0.010403\n",
       "Mas Vnr Area      0.010403\n",
       "Bsmt Half Bath    0.001300\n",
       "Bsmt Full Bath    0.001300\n",
       "Garage Cars       0.000650\n",
       "BsmtFin SF 1      0.000650\n",
       "BsmtFin SF 2      0.000650\n",
       "Bsmt Unf SF       0.000650\n",
       "Garage Area       0.000650\n",
       "Total Bsmt SF     0.000650\n",
       "dtype: float64"
      ]
     },
     "execution_count": 87,
     "metadata": {},
     "output_type": "execute_result"
    }
   ],
   "source": [
    "## looks for null values, then returns the columns + #nullvals in descending order\n",
    "null_checker(eda_df) / eda_df.shape[0]"
   ]
  },
  {
   "cell_type": "code",
   "execution_count": 88,
   "metadata": {},
   "outputs": [],
   "source": [
    "## dropping the first 5 features b/c they just have too many nulls to be worthwhile.\n",
    "eda_df = eda_df.drop(['Pool QC', 'Misc Feature', 'Alley', 'Fence', 'Fireplace Qu'], axis=1)"
   ]
  },
  {
   "cell_type": "code",
   "execution_count": 89,
   "metadata": {
    "scrolled": true
   },
   "outputs": [
    {
     "data": {
      "text/plain": [
       "(1538, 76)"
      ]
     },
     "execution_count": 89,
     "metadata": {},
     "output_type": "execute_result"
    }
   ],
   "source": [
    "eda_df.shape"
   ]
  },
  {
   "cell_type": "code",
   "execution_count": 90,
   "metadata": {},
   "outputs": [
    {
     "data": {
      "text/plain": [
       "['Id',\n",
       " 'PID',\n",
       " 'MS SubClass',\n",
       " 'Lot Frontage',\n",
       " 'Lot Area',\n",
       " 'Overall Qual',\n",
       " 'Overall Cond',\n",
       " 'Year Built',\n",
       " 'Year Remod/Add',\n",
       " 'Mas Vnr Area',\n",
       " 'BsmtFin SF 1',\n",
       " 'BsmtFin SF 2',\n",
       " 'Bsmt Unf SF',\n",
       " 'Total Bsmt SF',\n",
       " '1st Flr SF',\n",
       " '2nd Flr SF',\n",
       " 'Low Qual Fin SF',\n",
       " 'Gr Liv Area',\n",
       " 'Bsmt Full Bath',\n",
       " 'Bsmt Half Bath',\n",
       " 'Full Bath',\n",
       " 'Half Bath',\n",
       " 'Bedroom AbvGr',\n",
       " 'Kitchen AbvGr',\n",
       " 'TotRms AbvGrd',\n",
       " 'Fireplaces',\n",
       " 'Garage Yr Blt',\n",
       " 'Garage Cars',\n",
       " 'Garage Area',\n",
       " 'Wood Deck SF',\n",
       " 'Open Porch SF',\n",
       " 'Enclosed Porch',\n",
       " '3Ssn Porch',\n",
       " 'Screen Porch',\n",
       " 'Pool Area',\n",
       " 'Misc Val',\n",
       " 'Mo Sold',\n",
       " 'Yr Sold']"
      ]
     },
     "execution_count": 90,
     "metadata": {},
     "output_type": "execute_result"
    }
   ],
   "source": [
    "## next I'm going to check out the numeric columns and see if I can't just build a simple linear regression to start\n",
    "numeric_cols = []\n",
    "for i in range(len(train.dtypes)):\n",
    "    if train.dtypes[i] !=object:\n",
    "        numeric_cols.append(train.columns[i])\n",
    "                             \n",
    "numeric_cols = numeric_cols[:-1]\n",
    "numeric_cols"
   ]
  },
  {
   "cell_type": "markdown",
   "metadata": {},
   "source": [
    "**A few notes...**\n",
    "- Id, PID, and Sale Price (eventually, after looking at correlations) are going to be dropped for sure, since they're either not relevant or the actual target variable. \n",
    "- MS SubClass, Year Built, Year Remod/Add, Garage Yr Blt, Mo Sold, Yr Sold, Overall Qual and Overall Cond are all #s, but technically categorical. So we're gonna drop them for this exercise."
   ]
  },
  {
   "cell_type": "code",
   "execution_count": 91,
   "metadata": {},
   "outputs": [],
   "source": [
    "drop_cols = ['Id', 'PID', 'MS SubClass', 'Year Built', 'Year Remod/Add', 'Garage Yr Blt', 'Mo Sold', 'Yr Sold', 'Overall Qual', 'Overall Cond']\n",
    "eda_df = eda_df[numeric_cols].drop(drop_cols, axis=1)"
   ]
  },
  {
   "cell_type": "code",
   "execution_count": 92,
   "metadata": {},
   "outputs": [],
   "source": [
    "eda_df['SalePrice'] = train['SalePrice']"
   ]
  },
  {
   "cell_type": "code",
   "execution_count": 93,
   "metadata": {
    "scrolled": true
   },
   "outputs": [
    {
     "data": {
      "text/plain": [
       "(1538, 29)"
      ]
     },
     "execution_count": 93,
     "metadata": {},
     "output_type": "execute_result"
    }
   ],
   "source": [
    "eda_df.shape"
   ]
  },
  {
   "cell_type": "code",
   "execution_count": 94,
   "metadata": {},
   "outputs": [
    {
     "data": {
      "text/html": [
       "<div>\n",
       "<style scoped>\n",
       "    .dataframe tbody tr th:only-of-type {\n",
       "        vertical-align: middle;\n",
       "    }\n",
       "\n",
       "    .dataframe tbody tr th {\n",
       "        vertical-align: top;\n",
       "    }\n",
       "\n",
       "    .dataframe thead th {\n",
       "        text-align: right;\n",
       "    }\n",
       "</style>\n",
       "<table border=\"1\" class=\"dataframe\">\n",
       "  <thead>\n",
       "    <tr style=\"text-align: right;\">\n",
       "      <th></th>\n",
       "      <th>Lot Frontage</th>\n",
       "      <th>Lot Area</th>\n",
       "      <th>Mas Vnr Area</th>\n",
       "      <th>BsmtFin SF 1</th>\n",
       "      <th>BsmtFin SF 2</th>\n",
       "      <th>Bsmt Unf SF</th>\n",
       "      <th>Total Bsmt SF</th>\n",
       "      <th>1st Flr SF</th>\n",
       "      <th>2nd Flr SF</th>\n",
       "      <th>Low Qual Fin SF</th>\n",
       "      <th>...</th>\n",
       "      <th>Garage Cars</th>\n",
       "      <th>Garage Area</th>\n",
       "      <th>Wood Deck SF</th>\n",
       "      <th>Open Porch SF</th>\n",
       "      <th>Enclosed Porch</th>\n",
       "      <th>3Ssn Porch</th>\n",
       "      <th>Screen Porch</th>\n",
       "      <th>Pool Area</th>\n",
       "      <th>Misc Val</th>\n",
       "      <th>SalePrice</th>\n",
       "    </tr>\n",
       "  </thead>\n",
       "  <tbody>\n",
       "    <tr>\n",
       "      <th>1611</th>\n",
       "      <td>NaN</td>\n",
       "      <td>4435</td>\n",
       "      <td>170.0</td>\n",
       "      <td>685.0</td>\n",
       "      <td>0.0</td>\n",
       "      <td>163.0</td>\n",
       "      <td>848.0</td>\n",
       "      <td>848</td>\n",
       "      <td>0</td>\n",
       "      <td>0</td>\n",
       "      <td>...</td>\n",
       "      <td>2.0</td>\n",
       "      <td>420.0</td>\n",
       "      <td>140</td>\n",
       "      <td>0</td>\n",
       "      <td>0</td>\n",
       "      <td>0</td>\n",
       "      <td>0</td>\n",
       "      <td>0</td>\n",
       "      <td>0</td>\n",
       "      <td>140000</td>\n",
       "    </tr>\n",
       "    <tr>\n",
       "      <th>754</th>\n",
       "      <td>67.0</td>\n",
       "      <td>13070</td>\n",
       "      <td>0.0</td>\n",
       "      <td>308.0</td>\n",
       "      <td>0.0</td>\n",
       "      <td>323.0</td>\n",
       "      <td>631.0</td>\n",
       "      <td>1112</td>\n",
       "      <td>0</td>\n",
       "      <td>0</td>\n",
       "      <td>...</td>\n",
       "      <td>2.0</td>\n",
       "      <td>480.0</td>\n",
       "      <td>0</td>\n",
       "      <td>0</td>\n",
       "      <td>0</td>\n",
       "      <td>0</td>\n",
       "      <td>255</td>\n",
       "      <td>0</td>\n",
       "      <td>0</td>\n",
       "      <td>126000</td>\n",
       "    </tr>\n",
       "    <tr>\n",
       "      <th>1948</th>\n",
       "      <td>82.0</td>\n",
       "      <td>11070</td>\n",
       "      <td>70.0</td>\n",
       "      <td>0.0</td>\n",
       "      <td>0.0</td>\n",
       "      <td>1907.0</td>\n",
       "      <td>1907.0</td>\n",
       "      <td>1959</td>\n",
       "      <td>0</td>\n",
       "      <td>0</td>\n",
       "      <td>...</td>\n",
       "      <td>3.0</td>\n",
       "      <td>766.0</td>\n",
       "      <td>0</td>\n",
       "      <td>0</td>\n",
       "      <td>0</td>\n",
       "      <td>0</td>\n",
       "      <td>0</td>\n",
       "      <td>0</td>\n",
       "      <td>0</td>\n",
       "      <td>171000</td>\n",
       "    </tr>\n",
       "    <tr>\n",
       "      <th>22</th>\n",
       "      <td>103.0</td>\n",
       "      <td>12867</td>\n",
       "      <td>NaN</td>\n",
       "      <td>0.0</td>\n",
       "      <td>0.0</td>\n",
       "      <td>1209.0</td>\n",
       "      <td>1209.0</td>\n",
       "      <td>1209</td>\n",
       "      <td>1044</td>\n",
       "      <td>0</td>\n",
       "      <td>...</td>\n",
       "      <td>2.0</td>\n",
       "      <td>575.0</td>\n",
       "      <td>243</td>\n",
       "      <td>142</td>\n",
       "      <td>0</td>\n",
       "      <td>0</td>\n",
       "      <td>0</td>\n",
       "      <td>0</td>\n",
       "      <td>0</td>\n",
       "      <td>344133</td>\n",
       "    </tr>\n",
       "    <tr>\n",
       "      <th>1202</th>\n",
       "      <td>64.0</td>\n",
       "      <td>8333</td>\n",
       "      <td>0.0</td>\n",
       "      <td>0.0</td>\n",
       "      <td>0.0</td>\n",
       "      <td>738.0</td>\n",
       "      <td>738.0</td>\n",
       "      <td>738</td>\n",
       "      <td>753</td>\n",
       "      <td>0</td>\n",
       "      <td>...</td>\n",
       "      <td>2.0</td>\n",
       "      <td>484.0</td>\n",
       "      <td>100</td>\n",
       "      <td>30</td>\n",
       "      <td>0</td>\n",
       "      <td>0</td>\n",
       "      <td>0</td>\n",
       "      <td>0</td>\n",
       "      <td>0</td>\n",
       "      <td>168675</td>\n",
       "    </tr>\n",
       "  </tbody>\n",
       "</table>\n",
       "<p>5 rows × 29 columns</p>\n",
       "</div>"
      ],
      "text/plain": [
       "      Lot Frontage  Lot Area  Mas Vnr Area  BsmtFin SF 1  BsmtFin SF 2  \\\n",
       "1611           NaN      4435         170.0         685.0           0.0   \n",
       "754           67.0     13070           0.0         308.0           0.0   \n",
       "1948          82.0     11070          70.0           0.0           0.0   \n",
       "22           103.0     12867           NaN           0.0           0.0   \n",
       "1202          64.0      8333           0.0           0.0           0.0   \n",
       "\n",
       "      Bsmt Unf SF  Total Bsmt SF  1st Flr SF  2nd Flr SF  Low Qual Fin SF  \\\n",
       "1611        163.0          848.0         848           0                0   \n",
       "754         323.0          631.0        1112           0                0   \n",
       "1948       1907.0         1907.0        1959           0                0   \n",
       "22         1209.0         1209.0        1209        1044                0   \n",
       "1202        738.0          738.0         738         753                0   \n",
       "\n",
       "        ...      Garage Cars  Garage Area  Wood Deck SF  Open Porch SF  \\\n",
       "1611    ...              2.0        420.0           140              0   \n",
       "754     ...              2.0        480.0             0              0   \n",
       "1948    ...              3.0        766.0             0              0   \n",
       "22      ...              2.0        575.0           243            142   \n",
       "1202    ...              2.0        484.0           100             30   \n",
       "\n",
       "      Enclosed Porch  3Ssn Porch  Screen Porch  Pool Area  Misc Val  SalePrice  \n",
       "1611               0           0             0          0         0     140000  \n",
       "754                0           0           255          0         0     126000  \n",
       "1948               0           0             0          0         0     171000  \n",
       "22                 0           0             0          0         0     344133  \n",
       "1202               0           0             0          0         0     168675  \n",
       "\n",
       "[5 rows x 29 columns]"
      ]
     },
     "execution_count": 94,
     "metadata": {},
     "output_type": "execute_result"
    }
   ],
   "source": [
    "eda_df.head()"
   ]
  },
  {
   "cell_type": "markdown",
   "metadata": {},
   "source": [
    "**Notes:** Great, now we're down to 29 columns and can look at some correlations perhaps."
   ]
  },
  {
   "cell_type": "code",
   "execution_count": 127,
   "metadata": {},
   "outputs": [
    {
     "data": {
      "image/png": "[encoded data removed]",
      "text/plain": [
       "<Figure size 432x288 with 2 Axes>"
      ]
     },
     "metadata": {},
     "output_type": "display_data"
    }
   ],
   "source": [
    "sns.heatmap(abs(eda_df.corr()));\n",
    "plt.title('Correlation Heatmap of Numerical Features\\n', \n",
    "          fontsize=18, weight='bold');"
   ]
  },
  {
   "cell_type": "markdown",
   "metadata": {},
   "source": [
    "looks like there's a couple strong collinear features, but hopefully we'll get our automatic selection to drop them."
   ]
  },
  {
   "cell_type": "code",
   "execution_count": 96,
   "metadata": {},
   "outputs": [
    {
     "data": {
      "text/plain": [
       "Gr Liv Area        0.693945\n",
       "Total Bsmt SF      0.643637\n",
       "Garage Area        0.641826\n",
       "Garage Cars        0.640536\n",
       "1st Flr SF         0.638575\n",
       "Full Bath          0.536312\n",
       "Mas Vnr Area       0.518867\n",
       "TotRms AbvGrd      0.497535\n",
       "Fireplaces         0.464189\n",
       "BsmtFin SF 1       0.424019\n",
       "Open Porch SF      0.340122\n",
       "Wood Deck SF       0.325097\n",
       "Lot Frontage       0.320956\n",
       "Lot Area           0.301625\n",
       "Bsmt Full Bath     0.284181\n",
       "Half Bath          0.262149\n",
       "2nd Flr SF         0.236224\n",
       "Bsmt Unf SF        0.200331\n",
       "Screen Porch       0.136656\n",
       "Enclosed Porch     0.136327\n",
       "Kitchen AbvGr      0.128003\n",
       "Bedroom AbvGr      0.126641\n",
       "Bsmt Half Bath     0.048744\n",
       "3Ssn Porch         0.036718\n",
       "Low Qual Fin SF    0.033130\n",
       "BsmtFin SF 2       0.004883\n",
       "Pool Area          0.003233\n",
       "Misc Val           0.000410\n",
       "Name: SalePrice, dtype: float64"
      ]
     },
     "execution_count": 96,
     "metadata": {},
     "output_type": "execute_result"
    }
   ],
   "source": [
    "## looking at specifically how correlated each feature is to our target, SalePrice\n",
    "abs(eda_df.corr()['SalePrice']).sort_values(ascending=False)[1:]"
   ]
  },
  {
   "cell_type": "code",
   "execution_count": 97,
   "metadata": {},
   "outputs": [
    {
     "data": {
      "text/plain": [
       "Lot Frontage      251\n",
       "Mas Vnr Area       16\n",
       "Bsmt Half Bath      2\n",
       "Bsmt Full Bath      2\n",
       "Garage Area         1\n",
       "Garage Cars         1\n",
       "Total Bsmt SF       1\n",
       "Bsmt Unf SF         1\n",
       "BsmtFin SF 2        1\n",
       "BsmtFin SF 1        1\n",
       "dtype: int64"
      ]
     },
     "execution_count": 97,
     "metadata": {},
     "output_type": "execute_result"
    }
   ],
   "source": [
    "## now seeing of the columns I have left, what null vals there are. \n",
    "null_checker(eda_df)"
   ]
  },
  {
   "cell_type": "markdown",
   "metadata": {},
   "source": [
    "** Imputing Nulls **"
   ]
  },
  {
   "cell_type": "markdown",
   "metadata": {},
   "source": [
    "For the columns with samll # of nulls (all but 'Lot Frontage'), I'll just use the mean. But I think we can be a little bit smarter than that for the lot column, by filling off of the 'Lot Shape' which probably helps."
   ]
  },
  {
   "cell_type": "code",
   "execution_count": 131,
   "metadata": {},
   "outputs": [
    {
     "name": "stderr",
     "output_type": "stream",
     "text": [
      "C:\\Users\\james\\Anaconda3\\envs\\dsi\\lib\\site-packages\\seaborn\\categorical.py:1428: FutureWarning: remove_na is deprecated and is a private function. Do not use.\n",
      "  stat_data = remove_na(group_data)\n"
     ]
    },
    {
     "data": {
      "image/png": "[encoded data removed]",
      "text/plain": [
       "<Figure size 432x288 with 1 Axes>"
      ]
     },
     "metadata": {},
     "output_type": "display_data"
    }
   ],
   "source": [
    "# plotting the mean lot frontage by lot shape\n",
    "plot_groupby(X_train, 'Lot Frontage', 'Lot Shape');\n",
    "plt.title('Lot Frontage by Lot Shape\\n', fontsize=18, weight='bold');"
   ]
  },
  {
   "cell_type": "code",
   "execution_count": 132,
   "metadata": {},
   "outputs": [],
   "source": [
    "## finding the index of the null locations, and mapping for each of those, the mean of lot shape into the position.\n",
    "\n",
    "lotfill = X_train.loc[X_train[X_train['Lot Frontage'].isnull()].index, 'Lot Shape'].map(X_train.groupby('Lot Shape').agg('mean')['Lot Frontage'])\n",
    "\n",
    "eda_df['Lot Frontage'].fillna(lotfill, inplace=True)\n",
    "\n",
    "## now filling every other NaN value with just the column mean:\n",
    "eda_df.fillna(eda_df.mean(), inplace=True)"
   ]
  },
  {
   "cell_type": "code",
   "execution_count": 133,
   "metadata": {},
   "outputs": [
    {
     "data": {
      "text/plain": [
       "Series([], dtype: float64)"
      ]
     },
     "execution_count": 133,
     "metadata": {},
     "output_type": "execute_result"
    }
   ],
   "source": [
    "## let's check to make sure there are no nulls now!!\n",
    "null_checker(eda_df)"
   ]
  },
  {
   "cell_type": "markdown",
   "metadata": {},
   "source": [
    "## 4. Model your data! ... and 5. Evaluate your model(s)"
   ]
  },
  {
   "cell_type": "markdown",
   "metadata": {},
   "source": [
    "### Let's try a simple linear regression first."
   ]
  },
  {
   "cell_type": "code",
   "execution_count": 134,
   "metadata": {},
   "outputs": [],
   "source": [
    "from sklearn.cross_validation import KFold, cross_val_score\n",
    "from sklearn.linear_model import LinearRegression, LassoCV, RidgeCV, ElasticNetCV, Lasso, Ridge\n",
    "from sklearn.model_selection import train_test_split\n",
    "from sklearn.preprocessing import StandardScaler"
   ]
  },
  {
   "cell_type": "markdown",
   "metadata": {},
   "source": [
    "**Next Steps:**\n",
    "- Clean test data.\n",
    "- Fit train data.\n",
    "- Score test data.\n",
    "- Tune as necessary."
   ]
  },
  {
   "cell_type": "markdown",
   "metadata": {},
   "source": [
    "**Cleaning.**"
   ]
  },
  {
   "cell_type": "code",
   "execution_count": 135,
   "metadata": {},
   "outputs": [],
   "source": [
    "lotfill = X_test.loc[X_test[X_test['Lot Frontage'].isnull()].index, 'Lot Shape'].map(X_test.groupby('Lot Shape').agg('mean')['Lot Frontage'])\n",
    "\n",
    "X_test.loc[:,'Lot Frontage'] = X_test.loc[:,'Lot Frontage'].fillna(lotfill)\n",
    "\n",
    "## now filling every other NaN value with just the column mean:\n",
    "X_test = X_test.fillna(X_test.mean())"
   ]
  },
  {
   "cell_type": "markdown",
   "metadata": {},
   "source": [
    "**Let's make our new feature sets**"
   ]
  },
  {
   "cell_type": "code",
   "execution_count": 136,
   "metadata": {},
   "outputs": [],
   "source": [
    "X_test_slr = X_test.loc[:,numeric_cols]\n",
    "X_test_slr = X_test_slr.drop(drop_cols, axis=1)\n",
    "\n",
    "# X_test = X_test.loc[:,numeric_cols]\n",
    "# X_test = X_test.drop(drop_cols, axis=1)\n",
    "\n",
    "\n",
    "# X_train = eda_df.drop(['SalePrice'], axis=1)\n",
    "\n",
    "X_train_slr = eda_df.drop(['SalePrice'], axis=1)"
   ]
  },
  {
   "cell_type": "code",
   "execution_count": 137,
   "metadata": {},
   "outputs": [
    {
     "data": {
      "text/plain": [
       "((513, 28), (1538, 28))"
      ]
     },
     "execution_count": 137,
     "metadata": {},
     "output_type": "execute_result"
    }
   ],
   "source": [
    "X_test_slr.shape, X_train_slr.shape"
   ]
  },
  {
   "cell_type": "code",
   "execution_count": 138,
   "metadata": {},
   "outputs": [
    {
     "data": {
      "text/plain": [
       "Series([], dtype: float64)"
      ]
     },
     "execution_count": 138,
     "metadata": {},
     "output_type": "execute_result"
    }
   ],
   "source": [
    "null_checker(X_test_slr)"
   ]
  },
  {
   "cell_type": "markdown",
   "metadata": {},
   "source": [
    "**Fitting.**"
   ]
  },
  {
   "cell_type": "code",
   "execution_count": 139,
   "metadata": {},
   "outputs": [
    {
     "data": {
      "text/plain": [
       "array([ True,  True,  True,  True,  True,  True,  True,  True,  True,\n",
       "        True,  True,  True,  True,  True,  True,  True,  True,  True,\n",
       "        True,  True,  True,  True,  True,  True,  True,  True,  True,\n",
       "        True])"
      ]
     },
     "execution_count": 139,
     "metadata": {},
     "output_type": "execute_result"
    }
   ],
   "source": [
    "X_test_slr.columns == eda_df.columns[:-1]"
   ]
  },
  {
   "cell_type": "code",
   "execution_count": 140,
   "metadata": {},
   "outputs": [],
   "source": [
    "ss = StandardScaler()\n",
    "ss.fit(X_train_slr)\n",
    "X_train_slr = ss.transform(X_train_slr)\n",
    "X_test_slr = ss.transform(X_test_slr)"
   ]
  },
  {
   "cell_type": "code",
   "execution_count": 141,
   "metadata": {},
   "outputs": [
    {
     "data": {
      "text/plain": [
       "LinearRegression(copy_X=True, fit_intercept=True, n_jobs=1, normalize=False)"
      ]
     },
     "execution_count": 141,
     "metadata": {},
     "output_type": "execute_result"
    }
   ],
   "source": [
    "lr = LinearRegression()\n",
    "lr.fit(X_train_slr, y_train)"
   ]
  },
  {
   "cell_type": "code",
   "execution_count": 143,
   "metadata": {},
   "outputs": [
    {
     "name": "stdout",
     "output_type": "stream",
     "text": [
      "[0.79131713 0.63074491 0.75634187]\n",
      "0.7261346353409762\n"
     ]
    }
   ],
   "source": [
    "print(cross_val_score(LinearRegression(), X_train_slr, y_train))\n",
    "print(cross_val_score(LinearRegression(), X_train_slr, y_train).mean())"
   ]
  },
  {
   "cell_type": "code",
   "execution_count": 144,
   "metadata": {},
   "outputs": [
    {
     "name": "stdout",
     "output_type": "stream",
     "text": [
      "[0.74192798 0.48514499 0.79884627]\n",
      "0.6753064166085103\n"
     ]
    }
   ],
   "source": [
    "print(cross_val_score(LinearRegression(), X_test_slr, y_test))\n",
    "print(cross_val_score(LinearRegression(), X_test_slr, y_test).mean())"
   ]
  },
  {
   "cell_type": "code",
   "execution_count": 111,
   "metadata": {
    "scrolled": true
   },
   "outputs": [
    {
     "data": {
      "text/plain": [
       "(8, 10)"
      ]
     },
     "execution_count": 111,
     "metadata": {},
     "output_type": "execute_result"
    }
   ],
   "source": [
    "np.argmin(lr.coef_), np.argmax(lr.coef_)"
   ]
  },
  {
   "cell_type": "code",
   "execution_count": 112,
   "metadata": {},
   "outputs": [
    {
     "data": {
      "text/plain": [
       "('2nd Flr SF', 'Gr Liv Area')"
      ]
     },
     "execution_count": 112,
     "metadata": {},
     "output_type": "execute_result"
    }
   ],
   "source": [
    "eda_df.columns[8], eda_df.columns[10]"
   ]
  },
  {
   "cell_type": "code",
   "execution_count": 170,
   "metadata": {
    "scrolled": false
   },
   "outputs": [
    {
     "data": {
      "image/png": "[encoded data removed]",
      "text/plain": [
       "<Figure size 432x288 with 1 Axes>"
      ]
     },
     "metadata": {},
     "output_type": "display_data"
    }
   ],
   "source": [
    "plt.scatter(y_test, lr.predict(X_test_slr));\n",
    "plt.tick_params(labelsize=14);\n",
    "plt.ylabel('Actual Values', fontsize=16, weight='bold');\n",
    "plt.xlabel('Predicted Values', fontsize=16, weight='bold');\n",
    "plt.title('Predicted Home Prices vs. Actual Values\\n(LinReg)', \n",
    "         fontsize=18, weight='bold');"
   ]
  },
  {
   "cell_type": "code",
   "execution_count": 114,
   "metadata": {},
   "outputs": [
    {
     "data": {
      "text/html": [
       "<div>\n",
       "<style scoped>\n",
       "    .dataframe tbody tr th:only-of-type {\n",
       "        vertical-align: middle;\n",
       "    }\n",
       "\n",
       "    .dataframe tbody tr th {\n",
       "        vertical-align: top;\n",
       "    }\n",
       "\n",
       "    .dataframe thead th {\n",
       "        text-align: right;\n",
       "    }\n",
       "</style>\n",
       "<table border=\"1\" class=\"dataframe\">\n",
       "  <thead>\n",
       "    <tr style=\"text-align: right;\">\n",
       "      <th></th>\n",
       "      <th>Id</th>\n",
       "      <th>PID</th>\n",
       "      <th>MS SubClass</th>\n",
       "      <th>MS Zoning</th>\n",
       "      <th>Lot Frontage</th>\n",
       "      <th>Lot Area</th>\n",
       "      <th>Street</th>\n",
       "      <th>Alley</th>\n",
       "      <th>Lot Shape</th>\n",
       "      <th>Land Contour</th>\n",
       "      <th>...</th>\n",
       "      <th>3Ssn Porch</th>\n",
       "      <th>Screen Porch</th>\n",
       "      <th>Pool Area</th>\n",
       "      <th>Pool QC</th>\n",
       "      <th>Fence</th>\n",
       "      <th>Misc Feature</th>\n",
       "      <th>Misc Val</th>\n",
       "      <th>Mo Sold</th>\n",
       "      <th>Yr Sold</th>\n",
       "      <th>Sale Type</th>\n",
       "    </tr>\n",
       "  </thead>\n",
       "  <tbody>\n",
       "    <tr>\n",
       "      <th>1371</th>\n",
       "      <td>993</td>\n",
       "      <td>527105050</td>\n",
       "      <td>60</td>\n",
       "      <td>RL</td>\n",
       "      <td>72.000000</td>\n",
       "      <td>8702</td>\n",
       "      <td>Pave</td>\n",
       "      <td>NaN</td>\n",
       "      <td>IR1</td>\n",
       "      <td>Lvl</td>\n",
       "      <td>...</td>\n",
       "      <td>0</td>\n",
       "      <td>0</td>\n",
       "      <td>0</td>\n",
       "      <td>NaN</td>\n",
       "      <td>NaN</td>\n",
       "      <td>NaN</td>\n",
       "      <td>0</td>\n",
       "      <td>4</td>\n",
       "      <td>2008</td>\n",
       "      <td>WD</td>\n",
       "    </tr>\n",
       "    <tr>\n",
       "      <th>672</th>\n",
       "      <td>2121</td>\n",
       "      <td>907125120</td>\n",
       "      <td>20</td>\n",
       "      <td>RL</td>\n",
       "      <td>65.000000</td>\n",
       "      <td>8775</td>\n",
       "      <td>Pave</td>\n",
       "      <td>NaN</td>\n",
       "      <td>Reg</td>\n",
       "      <td>Lvl</td>\n",
       "      <td>...</td>\n",
       "      <td>0</td>\n",
       "      <td>0</td>\n",
       "      <td>0</td>\n",
       "      <td>NaN</td>\n",
       "      <td>NaN</td>\n",
       "      <td>NaN</td>\n",
       "      <td>0</td>\n",
       "      <td>4</td>\n",
       "      <td>2007</td>\n",
       "      <td>WD</td>\n",
       "    </tr>\n",
       "    <tr>\n",
       "      <th>764</th>\n",
       "      <td>123</td>\n",
       "      <td>534403360</td>\n",
       "      <td>80</td>\n",
       "      <td>RL</td>\n",
       "      <td>75.414634</td>\n",
       "      <td>10600</td>\n",
       "      <td>Pave</td>\n",
       "      <td>Pave</td>\n",
       "      <td>IR1</td>\n",
       "      <td>Lvl</td>\n",
       "      <td>...</td>\n",
       "      <td>0</td>\n",
       "      <td>0</td>\n",
       "      <td>0</td>\n",
       "      <td>NaN</td>\n",
       "      <td>NaN</td>\n",
       "      <td>NaN</td>\n",
       "      <td>0</td>\n",
       "      <td>5</td>\n",
       "      <td>2010</td>\n",
       "      <td>COD</td>\n",
       "    </tr>\n",
       "    <tr>\n",
       "      <th>932</th>\n",
       "      <td>1237</td>\n",
       "      <td>535151160</td>\n",
       "      <td>20</td>\n",
       "      <td>RL</td>\n",
       "      <td>70.000000</td>\n",
       "      <td>7763</td>\n",
       "      <td>Pave</td>\n",
       "      <td>NaN</td>\n",
       "      <td>Reg</td>\n",
       "      <td>Lvl</td>\n",
       "      <td>...</td>\n",
       "      <td>0</td>\n",
       "      <td>0</td>\n",
       "      <td>0</td>\n",
       "      <td>NaN</td>\n",
       "      <td>NaN</td>\n",
       "      <td>NaN</td>\n",
       "      <td>0</td>\n",
       "      <td>10</td>\n",
       "      <td>2008</td>\n",
       "      <td>WD</td>\n",
       "    </tr>\n",
       "    <tr>\n",
       "      <th>504</th>\n",
       "      <td>1744</td>\n",
       "      <td>528228375</td>\n",
       "      <td>120</td>\n",
       "      <td>RL</td>\n",
       "      <td>65.536667</td>\n",
       "      <td>3621</td>\n",
       "      <td>Pave</td>\n",
       "      <td>NaN</td>\n",
       "      <td>Reg</td>\n",
       "      <td>Lvl</td>\n",
       "      <td>...</td>\n",
       "      <td>0</td>\n",
       "      <td>0</td>\n",
       "      <td>0</td>\n",
       "      <td>NaN</td>\n",
       "      <td>NaN</td>\n",
       "      <td>NaN</td>\n",
       "      <td>0</td>\n",
       "      <td>11</td>\n",
       "      <td>2007</td>\n",
       "      <td>WD</td>\n",
       "    </tr>\n",
       "  </tbody>\n",
       "</table>\n",
       "<p>5 rows × 80 columns</p>\n",
       "</div>"
      ],
      "text/plain": [
       "        Id        PID  MS SubClass MS Zoning  Lot Frontage  Lot Area Street  \\\n",
       "1371   993  527105050           60        RL     72.000000      8702   Pave   \n",
       "672   2121  907125120           20        RL     65.000000      8775   Pave   \n",
       "764    123  534403360           80        RL     75.414634     10600   Pave   \n",
       "932   1237  535151160           20        RL     70.000000      7763   Pave   \n",
       "504   1744  528228375          120        RL     65.536667      3621   Pave   \n",
       "\n",
       "     Alley Lot Shape Land Contour    ...     3Ssn Porch Screen Porch  \\\n",
       "1371   NaN       IR1          Lvl    ...              0            0   \n",
       "672    NaN       Reg          Lvl    ...              0            0   \n",
       "764   Pave       IR1          Lvl    ...              0            0   \n",
       "932    NaN       Reg          Lvl    ...              0            0   \n",
       "504    NaN       Reg          Lvl    ...              0            0   \n",
       "\n",
       "     Pool Area Pool QC Fence Misc Feature Misc Val Mo Sold  Yr Sold  Sale Type  \n",
       "1371         0     NaN   NaN          NaN        0       4     2008        WD   \n",
       "672          0     NaN   NaN          NaN        0       4     2007        WD   \n",
       "764          0     NaN   NaN          NaN        0       5     2010        COD  \n",
       "932          0     NaN   NaN          NaN        0      10     2008        WD   \n",
       "504          0     NaN   NaN          NaN        0      11     2007        WD   \n",
       "\n",
       "[5 rows x 80 columns]"
      ]
     },
     "execution_count": 114,
     "metadata": {},
     "output_type": "execute_result"
    }
   ],
   "source": [
    "X_test.head()"
   ]
  },
  {
   "cell_type": "code",
   "execution_count": 115,
   "metadata": {
    "scrolled": true
   },
   "outputs": [],
   "source": [
    "checkdata = pd.DataFrame(data=X_test_slr, columns=eda_df.columns[:-1])\n",
    "checkdata['yhat'] = lr.predict(X_test_slr)\n",
    "# checkdata.sort_values(by='yhat', ascending=False)"
   ]
  },
  {
   "cell_type": "code",
   "execution_count": 116,
   "metadata": {
    "scrolled": false
   },
   "outputs": [
    {
     "data": {
      "text/html": [
       "<div>\n",
       "<style scoped>\n",
       "    .dataframe tbody tr th:only-of-type {\n",
       "        vertical-align: middle;\n",
       "    }\n",
       "\n",
       "    .dataframe tbody tr th {\n",
       "        vertical-align: top;\n",
       "    }\n",
       "\n",
       "    .dataframe thead th {\n",
       "        text-align: right;\n",
       "    }\n",
       "</style>\n",
       "<table border=\"1\" class=\"dataframe\">\n",
       "  <thead>\n",
       "    <tr style=\"text-align: right;\">\n",
       "      <th></th>\n",
       "      <th>Lot Frontage</th>\n",
       "      <th>Lot Area</th>\n",
       "      <th>Mas Vnr Area</th>\n",
       "      <th>BsmtFin SF 1</th>\n",
       "      <th>BsmtFin SF 2</th>\n",
       "      <th>Bsmt Unf SF</th>\n",
       "      <th>Total Bsmt SF</th>\n",
       "      <th>1st Flr SF</th>\n",
       "      <th>2nd Flr SF</th>\n",
       "      <th>Low Qual Fin SF</th>\n",
       "      <th>...</th>\n",
       "      <th>Garage Cars</th>\n",
       "      <th>Garage Area</th>\n",
       "      <th>Wood Deck SF</th>\n",
       "      <th>Open Porch SF</th>\n",
       "      <th>Enclosed Porch</th>\n",
       "      <th>3Ssn Porch</th>\n",
       "      <th>Screen Porch</th>\n",
       "      <th>Pool Area</th>\n",
       "      <th>Misc Val</th>\n",
       "      <th>yhat</th>\n",
       "    </tr>\n",
       "  </thead>\n",
       "  <tbody>\n",
       "    <tr>\n",
       "      <th>0</th>\n",
       "      <td>0.091831</td>\n",
       "      <td>-0.193154</td>\n",
       "      <td>-0.570721</td>\n",
       "      <td>0.576625</td>\n",
       "      <td>-0.298088</td>\n",
       "      <td>-0.777443</td>\n",
       "      <td>-0.295180</td>\n",
       "      <td>-0.607647</td>\n",
       "      <td>0.832637</td>\n",
       "      <td>-0.117471</td>\n",
       "      <td>...</td>\n",
       "      <td>0.288931</td>\n",
       "      <td>-0.019967</td>\n",
       "      <td>-0.725680</td>\n",
       "      <td>-0.162429</td>\n",
       "      <td>-0.377887</td>\n",
       "      <td>-0.101152</td>\n",
       "      <td>-0.287733</td>\n",
       "      <td>-0.06125</td>\n",
       "      <td>-0.09268</td>\n",
       "      <td>188382.637707</td>\n",
       "    </tr>\n",
       "    <tr>\n",
       "      <th>1</th>\n",
       "      <td>-0.223257</td>\n",
       "      <td>-0.183049</td>\n",
       "      <td>-0.570721</td>\n",
       "      <td>0.118538</td>\n",
       "      <td>-0.298088</td>\n",
       "      <td>-0.161396</td>\n",
       "      <td>-0.150920</td>\n",
       "      <td>-0.441317</td>\n",
       "      <td>-0.759168</td>\n",
       "      <td>-0.117471</td>\n",
       "      <td>...</td>\n",
       "      <td>-1.021060</td>\n",
       "      <td>-0.807217</td>\n",
       "      <td>-0.725680</td>\n",
       "      <td>0.255673</td>\n",
       "      <td>-0.377887</td>\n",
       "      <td>-0.101152</td>\n",
       "      <td>-0.287733</td>\n",
       "      <td>-0.06125</td>\n",
       "      <td>-0.09268</td>\n",
       "      <td>100949.812180</td>\n",
       "    </tr>\n",
       "    <tr>\n",
       "      <th>2</th>\n",
       "      <td>0.245532</td>\n",
       "      <td>0.069577</td>\n",
       "      <td>-0.570721</td>\n",
       "      <td>-0.956121</td>\n",
       "      <td>-0.298088</td>\n",
       "      <td>-0.076269</td>\n",
       "      <td>-1.181027</td>\n",
       "      <td>-0.074873</td>\n",
       "      <td>0.752812</td>\n",
       "      <td>-0.117471</td>\n",
       "      <td>...</td>\n",
       "      <td>0.288931</td>\n",
       "      <td>0.026071</td>\n",
       "      <td>-0.725680</td>\n",
       "      <td>1.868351</td>\n",
       "      <td>-0.377887</td>\n",
       "      <td>-0.101152</td>\n",
       "      <td>-0.287733</td>\n",
       "      <td>-0.06125</td>\n",
       "      <td>-0.09268</td>\n",
       "      <td>183863.592390</td>\n",
       "    </tr>\n",
       "    <tr>\n",
       "      <th>3</th>\n",
       "      <td>0.001806</td>\n",
       "      <td>-0.323136</td>\n",
       "      <td>-0.570721</td>\n",
       "      <td>0.138077</td>\n",
       "      <td>0.352179</td>\n",
       "      <td>-0.555666</td>\n",
       "      <td>-0.283909</td>\n",
       "      <td>0.320159</td>\n",
       "      <td>-0.759168</td>\n",
       "      <td>-0.117471</td>\n",
       "      <td>...</td>\n",
       "      <td>0.288931</td>\n",
       "      <td>0.145770</td>\n",
       "      <td>-0.725680</td>\n",
       "      <td>-0.699988</td>\n",
       "      <td>-0.377887</td>\n",
       "      <td>-0.101152</td>\n",
       "      <td>-0.287733</td>\n",
       "      <td>-0.06125</td>\n",
       "      <td>-0.09268</td>\n",
       "      <td>150071.637759</td>\n",
       "    </tr>\n",
       "    <tr>\n",
       "      <th>4</th>\n",
       "      <td>-0.199100</td>\n",
       "      <td>-0.896495</td>\n",
       "      <td>-0.152976</td>\n",
       "      <td>1.397274</td>\n",
       "      <td>-0.298088</td>\n",
       "      <td>-0.548946</td>\n",
       "      <td>0.786771</td>\n",
       "      <td>1.115422</td>\n",
       "      <td>-0.759168</td>\n",
       "      <td>-0.117471</td>\n",
       "      <td>...</td>\n",
       "      <td>1.598922</td>\n",
       "      <td>0.716642</td>\n",
       "      <td>0.376275</td>\n",
       "      <td>-0.401344</td>\n",
       "      <td>-0.377887</td>\n",
       "      <td>-0.101152</td>\n",
       "      <td>-0.287733</td>\n",
       "      <td>-0.06125</td>\n",
       "      <td>-0.09268</td>\n",
       "      <td>259601.000915</td>\n",
       "    </tr>\n",
       "  </tbody>\n",
       "</table>\n",
       "<p>5 rows × 29 columns</p>\n",
       "</div>"
      ],
      "text/plain": [
       "   Lot Frontage  Lot Area  Mas Vnr Area  BsmtFin SF 1  BsmtFin SF 2  \\\n",
       "0      0.091831 -0.193154     -0.570721      0.576625     -0.298088   \n",
       "1     -0.223257 -0.183049     -0.570721      0.118538     -0.298088   \n",
       "2      0.245532  0.069577     -0.570721     -0.956121     -0.298088   \n",
       "3      0.001806 -0.323136     -0.570721      0.138077      0.352179   \n",
       "4     -0.199100 -0.896495     -0.152976      1.397274     -0.298088   \n",
       "\n",
       "   Bsmt Unf SF  Total Bsmt SF  1st Flr SF  2nd Flr SF  Low Qual Fin SF  \\\n",
       "0    -0.777443      -0.295180   -0.607647    0.832637        -0.117471   \n",
       "1    -0.161396      -0.150920   -0.441317   -0.759168        -0.117471   \n",
       "2    -0.076269      -1.181027   -0.074873    0.752812        -0.117471   \n",
       "3    -0.555666      -0.283909    0.320159   -0.759168        -0.117471   \n",
       "4    -0.548946       0.786771    1.115422   -0.759168        -0.117471   \n",
       "\n",
       "       ...        Garage Cars  Garage Area  Wood Deck SF  Open Porch SF  \\\n",
       "0      ...           0.288931    -0.019967     -0.725680      -0.162429   \n",
       "1      ...          -1.021060    -0.807217     -0.725680       0.255673   \n",
       "2      ...           0.288931     0.026071     -0.725680       1.868351   \n",
       "3      ...           0.288931     0.145770     -0.725680      -0.699988   \n",
       "4      ...           1.598922     0.716642      0.376275      -0.401344   \n",
       "\n",
       "   Enclosed Porch  3Ssn Porch  Screen Porch  Pool Area  Misc Val  \\\n",
       "0       -0.377887   -0.101152     -0.287733   -0.06125  -0.09268   \n",
       "1       -0.377887   -0.101152     -0.287733   -0.06125  -0.09268   \n",
       "2       -0.377887   -0.101152     -0.287733   -0.06125  -0.09268   \n",
       "3       -0.377887   -0.101152     -0.287733   -0.06125  -0.09268   \n",
       "4       -0.377887   -0.101152     -0.287733   -0.06125  -0.09268   \n",
       "\n",
       "            yhat  \n",
       "0  188382.637707  \n",
       "1  100949.812180  \n",
       "2  183863.592390  \n",
       "3  150071.637759  \n",
       "4  259601.000915  \n",
       "\n",
       "[5 rows x 29 columns]"
      ]
     },
     "execution_count": 116,
     "metadata": {},
     "output_type": "execute_result"
    }
   ],
   "source": [
    "checkdata.head()"
   ]
  },
  {
   "cell_type": "code",
   "execution_count": 117,
   "metadata": {
    "scrolled": true
   },
   "outputs": [
    {
     "data": {
      "text/html": [
       "<div>\n",
       "<style scoped>\n",
       "    .dataframe tbody tr th:only-of-type {\n",
       "        vertical-align: middle;\n",
       "    }\n",
       "\n",
       "    .dataframe tbody tr th {\n",
       "        vertical-align: top;\n",
       "    }\n",
       "\n",
       "    .dataframe thead th {\n",
       "        text-align: right;\n",
       "    }\n",
       "</style>\n",
       "<table border=\"1\" class=\"dataframe\">\n",
       "  <thead>\n",
       "    <tr style=\"text-align: right;\">\n",
       "      <th></th>\n",
       "      <th>Lot Frontage</th>\n",
       "      <th>Lot Area</th>\n",
       "      <th>Mas Vnr Area</th>\n",
       "      <th>BsmtFin SF 1</th>\n",
       "      <th>BsmtFin SF 2</th>\n",
       "      <th>Bsmt Unf SF</th>\n",
       "      <th>Total Bsmt SF</th>\n",
       "      <th>1st Flr SF</th>\n",
       "      <th>2nd Flr SF</th>\n",
       "      <th>Low Qual Fin SF</th>\n",
       "      <th>...</th>\n",
       "      <th>Garage Cars</th>\n",
       "      <th>Garage Area</th>\n",
       "      <th>Wood Deck SF</th>\n",
       "      <th>Open Porch SF</th>\n",
       "      <th>Enclosed Porch</th>\n",
       "      <th>3Ssn Porch</th>\n",
       "      <th>Screen Porch</th>\n",
       "      <th>Pool Area</th>\n",
       "      <th>Misc Val</th>\n",
       "      <th>yhat</th>\n",
       "    </tr>\n",
       "  </thead>\n",
       "  <tbody>\n",
       "    <tr>\n",
       "      <th>315</th>\n",
       "      <td>2.612532</td>\n",
       "      <td>4.041008</td>\n",
       "      <td>6.530948</td>\n",
       "      <td>7.749704</td>\n",
       "      <td>-0.298088</td>\n",
       "      <td>1.160306</td>\n",
       "      <td>9.102016</td>\n",
       "      <td>10.227153</td>\n",
       "      <td>-0.759168</td>\n",
       "      <td>-0.117471</td>\n",
       "      <td>...</td>\n",
       "      <td>1.598922</td>\n",
       "      <td>3.129035</td>\n",
       "      <td>3.481786</td>\n",
       "      <td>6.527198</td>\n",
       "      <td>-0.377887</td>\n",
       "      <td>-0.101152</td>\n",
       "      <td>-0.287733</td>\n",
       "      <td>-0.06125</td>\n",
       "      <td>39.483658</td>\n",
       "      <td>810870.983359</td>\n",
       "    </tr>\n",
       "  </tbody>\n",
       "</table>\n",
       "<p>1 rows × 29 columns</p>\n",
       "</div>"
      ],
      "text/plain": [
       "     Lot Frontage  Lot Area  Mas Vnr Area  BsmtFin SF 1  BsmtFin SF 2  \\\n",
       "315      2.612532  4.041008      6.530948      7.749704     -0.298088   \n",
       "\n",
       "     Bsmt Unf SF  Total Bsmt SF  1st Flr SF  2nd Flr SF  Low Qual Fin SF  \\\n",
       "315     1.160306       9.102016   10.227153   -0.759168        -0.117471   \n",
       "\n",
       "         ...        Garage Cars  Garage Area  Wood Deck SF  Open Porch SF  \\\n",
       "315      ...           1.598922     3.129035      3.481786       6.527198   \n",
       "\n",
       "     Enclosed Porch  3Ssn Porch  Screen Porch  Pool Area   Misc Val  \\\n",
       "315       -0.377887   -0.101152     -0.287733   -0.06125  39.483658   \n",
       "\n",
       "              yhat  \n",
       "315  810870.983359  \n",
       "\n",
       "[1 rows x 29 columns]"
      ]
     },
     "execution_count": 117,
     "metadata": {},
     "output_type": "execute_result"
    }
   ],
   "source": [
    "checkdata[checkdata['yhat'] > 800000]"
   ]
  },
  {
   "cell_type": "code",
   "execution_count": 119,
   "metadata": {},
   "outputs": [
    {
     "data": {
      "text/html": [
       "<div>\n",
       "<style scoped>\n",
       "    .dataframe tbody tr th:only-of-type {\n",
       "        vertical-align: middle;\n",
       "    }\n",
       "\n",
       "    .dataframe tbody tr th {\n",
       "        vertical-align: top;\n",
       "    }\n",
       "\n",
       "    .dataframe thead th {\n",
       "        text-align: right;\n",
       "    }\n",
       "</style>\n",
       "<table border=\"1\" class=\"dataframe\">\n",
       "  <thead>\n",
       "    <tr style=\"text-align: right;\">\n",
       "      <th></th>\n",
       "      <th>Lot Frontage</th>\n",
       "      <th>Lot Area</th>\n",
       "      <th>Mas Vnr Area</th>\n",
       "      <th>BsmtFin SF 1</th>\n",
       "      <th>BsmtFin SF 2</th>\n",
       "      <th>Bsmt Unf SF</th>\n",
       "      <th>Total Bsmt SF</th>\n",
       "      <th>1st Flr SF</th>\n",
       "      <th>2nd Flr SF</th>\n",
       "      <th>Low Qual Fin SF</th>\n",
       "      <th>...</th>\n",
       "      <th>Garage Cars</th>\n",
       "      <th>Garage Area</th>\n",
       "      <th>Wood Deck SF</th>\n",
       "      <th>Open Porch SF</th>\n",
       "      <th>Enclosed Porch</th>\n",
       "      <th>3Ssn Porch</th>\n",
       "      <th>Screen Porch</th>\n",
       "      <th>Pool Area</th>\n",
       "      <th>Misc Val</th>\n",
       "      <th>yhat</th>\n",
       "    </tr>\n",
       "  </thead>\n",
       "  <tbody>\n",
       "    <tr>\n",
       "      <th>311</th>\n",
       "      <td>0.451931</td>\n",
       "      <td>0.912866</td>\n",
       "      <td>0.496850</td>\n",
       "      <td>0.758991</td>\n",
       "      <td>2.525759</td>\n",
       "      <td>-0.972338</td>\n",
       "      <td>0.755214</td>\n",
       "      <td>0.603439</td>\n",
       "      <td>2.508962</td>\n",
       "      <td>-0.117471</td>\n",
       "      <td>...</td>\n",
       "      <td>0.288931</td>\n",
       "      <td>0.412791</td>\n",
       "      <td>-0.725680</td>\n",
       "      <td>0.972419</td>\n",
       "      <td>-0.377887</td>\n",
       "      <td>-0.101152</td>\n",
       "      <td>7.489956</td>\n",
       "      <td>14.442146</td>\n",
       "      <td>4.563359</td>\n",
       "      <td>268982.466308</td>\n",
       "    </tr>\n",
       "    <tr>\n",
       "      <th>46</th>\n",
       "      <td>-0.313282</td>\n",
       "      <td>0.303794</td>\n",
       "      <td>0.496850</td>\n",
       "      <td>-0.511060</td>\n",
       "      <td>-0.298088</td>\n",
       "      <td>0.721232</td>\n",
       "      <td>0.083503</td>\n",
       "      <td>-0.150241</td>\n",
       "      <td>2.459659</td>\n",
       "      <td>-0.117471</td>\n",
       "      <td>...</td>\n",
       "      <td>1.598922</td>\n",
       "      <td>0.923813</td>\n",
       "      <td>1.169991</td>\n",
       "      <td>-0.117632</td>\n",
       "      <td>-0.377887</td>\n",
       "      <td>-0.101152</td>\n",
       "      <td>-0.287733</td>\n",
       "      <td>-0.061250</td>\n",
       "      <td>-0.092680</td>\n",
       "      <td>287197.118353</td>\n",
       "    </tr>\n",
       "    <tr>\n",
       "      <th>272</th>\n",
       "      <td>0.586969</td>\n",
       "      <td>-0.010848</td>\n",
       "      <td>1.732680</td>\n",
       "      <td>0.188011</td>\n",
       "      <td>-0.298088</td>\n",
       "      <td>0.555459</td>\n",
       "      <td>0.642511</td>\n",
       "      <td>0.515077</td>\n",
       "      <td>2.452615</td>\n",
       "      <td>-0.117471</td>\n",
       "      <td>...</td>\n",
       "      <td>1.598922</td>\n",
       "      <td>1.154003</td>\n",
       "      <td>1.640056</td>\n",
       "      <td>1.823554</td>\n",
       "      <td>2.443915</td>\n",
       "      <td>-0.101152</td>\n",
       "      <td>-0.287733</td>\n",
       "      <td>-0.061250</td>\n",
       "      <td>-0.092680</td>\n",
       "      <td>307280.083139</td>\n",
       "    </tr>\n",
       "    <tr>\n",
       "      <th>342</th>\n",
       "      <td>0.812031</td>\n",
       "      <td>0.355426</td>\n",
       "      <td>0.850773</td>\n",
       "      <td>-0.956121</td>\n",
       "      <td>-0.298088</td>\n",
       "      <td>1.180467</td>\n",
       "      <td>0.083503</td>\n",
       "      <td>-0.069675</td>\n",
       "      <td>2.408007</td>\n",
       "      <td>-0.117471</td>\n",
       "      <td>...</td>\n",
       "      <td>1.598922</td>\n",
       "      <td>0.771887</td>\n",
       "      <td>0.383981</td>\n",
       "      <td>-0.117632</td>\n",
       "      <td>-0.377887</td>\n",
       "      <td>-0.101152</td>\n",
       "      <td>-0.287733</td>\n",
       "      <td>-0.061250</td>\n",
       "      <td>-0.092680</td>\n",
       "      <td>268995.868695</td>\n",
       "    </tr>\n",
       "    <tr>\n",
       "      <th>394</th>\n",
       "      <td>0.245532</td>\n",
       "      <td>0.235688</td>\n",
       "      <td>-0.025331</td>\n",
       "      <td>0.706887</td>\n",
       "      <td>-0.298088</td>\n",
       "      <td>-0.472780</td>\n",
       "      <td>0.146617</td>\n",
       "      <td>-0.035889</td>\n",
       "      <td>2.386877</td>\n",
       "      <td>-0.117471</td>\n",
       "      <td>...</td>\n",
       "      <td>0.288931</td>\n",
       "      <td>-0.102835</td>\n",
       "      <td>0.376275</td>\n",
       "      <td>-0.222158</td>\n",
       "      <td>-0.377887</td>\n",
       "      <td>-0.101152</td>\n",
       "      <td>-0.287733</td>\n",
       "      <td>-0.061250</td>\n",
       "      <td>-0.092680</td>\n",
       "      <td>270030.248071</td>\n",
       "    </tr>\n",
       "  </tbody>\n",
       "</table>\n",
       "<p>5 rows × 29 columns</p>\n",
       "</div>"
      ],
      "text/plain": [
       "     Lot Frontage  Lot Area  Mas Vnr Area  BsmtFin SF 1  BsmtFin SF 2  \\\n",
       "311      0.451931  0.912866      0.496850      0.758991      2.525759   \n",
       "46      -0.313282  0.303794      0.496850     -0.511060     -0.298088   \n",
       "272      0.586969 -0.010848      1.732680      0.188011     -0.298088   \n",
       "342      0.812031  0.355426      0.850773     -0.956121     -0.298088   \n",
       "394      0.245532  0.235688     -0.025331      0.706887     -0.298088   \n",
       "\n",
       "     Bsmt Unf SF  Total Bsmt SF  1st Flr SF  2nd Flr SF  Low Qual Fin SF  \\\n",
       "311    -0.972338       0.755214    0.603439    2.508962        -0.117471   \n",
       "46      0.721232       0.083503   -0.150241    2.459659        -0.117471   \n",
       "272     0.555459       0.642511    0.515077    2.452615        -0.117471   \n",
       "342     1.180467       0.083503   -0.069675    2.408007        -0.117471   \n",
       "394    -0.472780       0.146617   -0.035889    2.386877        -0.117471   \n",
       "\n",
       "         ...        Garage Cars  Garage Area  Wood Deck SF  Open Porch SF  \\\n",
       "311      ...           0.288931     0.412791     -0.725680       0.972419   \n",
       "46       ...           1.598922     0.923813      1.169991      -0.117632   \n",
       "272      ...           1.598922     1.154003      1.640056       1.823554   \n",
       "342      ...           1.598922     0.771887      0.383981      -0.117632   \n",
       "394      ...           0.288931    -0.102835      0.376275      -0.222158   \n",
       "\n",
       "     Enclosed Porch  3Ssn Porch  Screen Porch  Pool Area  Misc Val  \\\n",
       "311       -0.377887   -0.101152      7.489956  14.442146  4.563359   \n",
       "46        -0.377887   -0.101152     -0.287733  -0.061250 -0.092680   \n",
       "272        2.443915   -0.101152     -0.287733  -0.061250 -0.092680   \n",
       "342       -0.377887   -0.101152     -0.287733  -0.061250 -0.092680   \n",
       "394       -0.377887   -0.101152     -0.287733  -0.061250 -0.092680   \n",
       "\n",
       "              yhat  \n",
       "311  268982.466308  \n",
       "46   287197.118353  \n",
       "272  307280.083139  \n",
       "342  268995.868695  \n",
       "394  270030.248071  \n",
       "\n",
       "[5 rows x 29 columns]"
      ]
     },
     "execution_count": 119,
     "metadata": {},
     "output_type": "execute_result"
    }
   ],
   "source": [
    "checkdata.sort_values(by='2nd Flr SF', ascending=False).head()"
   ]
  },
  {
   "cell_type": "markdown",
   "metadata": {},
   "source": [
    "** Checking to see if the values on the weird outlier have super high/low values for the strongest associated betas**"
   ]
  },
  {
   "cell_type": "code",
   "execution_count": 126,
   "metadata": {},
   "outputs": [
    {
     "data": {
      "image/png": "[encoded data removed]",
      "text/plain": [
       "<Figure size 1440x576 with 1 Axes>"
      ]
     },
     "metadata": {},
     "output_type": "display_data"
    }
   ],
   "source": [
    "fig, ax = plt.subplots(nrows=1, ncols=1, figsize = (20, 8));\n",
    "\n",
    "ax.bar(checkdata.index, checkdata['Gr Liv Area']);\n",
    "ax.scatter(315,checkdata.loc[315, 'Gr Liv Area'], color='r', s=200, edgecolors='b', zorder=5);\n",
    "ax.set_title('Strong Pos. Beta: Gr Liv Area\\n', fontsize=36, weight='bold');\n",
    "\n",
    "ax.set_ylabel('Standardized Value', fontsize=24, weight='bold');\n",
    "\n",
    "ax.tick_params(axis='both', labelsize =24);"
   ]
  },
  {
   "cell_type": "markdown",
   "metadata": {},
   "source": [
    "** Okay. So we have a strong outlier for our largest pos. beta.**\n",
    "\n",
    "the predicted price, ~800,000, and the actual price, 87,550, seem off by about an order of mag"
   ]
  },
  {
   "cell_type": "code",
   "execution_count": 149,
   "metadata": {},
   "outputs": [
    {
     "data": {
      "text/plain": [
       "87550"
      ]
     },
     "execution_count": 149,
     "metadata": {},
     "output_type": "execute_result"
    }
   ],
   "source": [
    "train.loc[315, 'SalePrice']"
   ]
  },
  {
   "cell_type": "code",
   "execution_count": 150,
   "metadata": {
    "scrolled": true
   },
   "outputs": [
    {
     "data": {
      "text/plain": [
       "810870.9833590338"
      ]
     },
     "execution_count": 150,
     "metadata": {},
     "output_type": "execute_result"
    }
   ],
   "source": [
    "checkdata.loc[315, 'yhat']"
   ]
  },
  {
   "cell_type": "code",
   "execution_count": 151,
   "metadata": {},
   "outputs": [
    {
     "data": {
      "text/plain": [
       "87550"
      ]
     },
     "execution_count": 151,
     "metadata": {},
     "output_type": "execute_result"
    }
   ],
   "source": [
    "y_train[315]"
   ]
  },
  {
   "cell_type": "markdown",
   "metadata": {},
   "source": [
    "### RidgeCV"
   ]
  },
  {
   "cell_type": "code",
   "execution_count": 152,
   "metadata": {},
   "outputs": [],
   "source": [
    "## defining a baseline and some plots to be able to look at my optimized alpha value nicely\n",
    "\n",
    "lr_cv_mean_mse = -cross_val_score(lr, \n",
    "                                 X_train_slr,\n",
    "                                 y_train,\n",
    "                                 cv=5,\n",
    "                                 scoring='neg_mean_squared_error').mean()\n",
    "\n",
    "def plot_cv(alphas, cv_means, optimal_alpha, lr_mse, log=False):\n",
    "    # alphas = list of alphas\n",
    "    # cv_means = list of CV mean MSE\n",
    "    # optimal_alpha\n",
    "    # lr_mse\n",
    "    fig = plt.figure(figsize=(12,8))\n",
    "    ax = plt.gca()\n",
    "\n",
    "    if log:\n",
    "        ax.semilogx(alphas, cv_means, lw=2)\n",
    "    else:\n",
    "        ax.plot(alphas, cv_means, lw=2)\n",
    "    ax.axvline(optimal_alpha)\n",
    "    ax.axhline(lr_mse)\n",
    "    ax.set_xlabel('alpha')\n",
    "    ax.set_ylabel('Mean Squared Error')"
   ]
  },
  {
   "cell_type": "code",
   "execution_count": 153,
   "metadata": {},
   "outputs": [
    {
     "data": {
      "text/plain": [
       "(410.26581058271944, 5377570318.1528845)"
      ]
     },
     "execution_count": 153,
     "metadata": {},
     "output_type": "execute_result"
    }
   ],
   "source": [
    "## finding optimal alpha and fitting ridge model\n",
    "\n",
    "r_alphas = np.logspace(0, 20, 200)\n",
    "# r_alphas = np.\n",
    "\n",
    "ridge_model = RidgeCV(alphas = r_alphas, store_cv_values=True)\n",
    "ridge_model = ridge_model.fit(X_train_slr, y_train)\n",
    "\n",
    "ridge_optimal_alpha = ridge_model.alpha_\n",
    "\n",
    "ridge_cv_means = [np.mean(cv_alpha) for cv_alpha in ridge_model.cv_values_.T]\n",
    "\n",
    "ridge_optimal_alpha, np.mean(ridge_cv_means)"
   ]
  },
  {
   "cell_type": "code",
   "execution_count": 154,
   "metadata": {},
   "outputs": [
    {
     "data": {
      "image/png": "[encoded data removed]",
      "text/plain": [
       "<Figure size 864x576 with 1 Axes>"
      ]
     },
     "metadata": {},
     "output_type": "display_data"
    }
   ],
   "source": [
    "plot_cv(ridge_model.alphas, ridge_cv_means, ridge_optimal_alpha, lr_cv_mean_mse, log=True)"
   ]
  },
  {
   "cell_type": "code",
   "execution_count": 155,
   "metadata": {},
   "outputs": [
    {
     "data": {
      "text/plain": [
       "(0.7736136223274894, 0.6970173465417704)"
      ]
     },
     "execution_count": 155,
     "metadata": {},
     "output_type": "execute_result"
    }
   ],
   "source": [
    "## let's check this against data it's never seen.\n",
    "\n",
    "ridge_model.score(X_train_slr, y_train), ridge_model.score(X_test_slr, y_test)"
   ]
  },
  {
   "cell_type": "code",
   "execution_count": 156,
   "metadata": {
    "scrolled": true
   },
   "outputs": [],
   "source": [
    "# plt.scatter(y_test, ridge_model.predict(X_test_slr));"
   ]
  },
  {
   "cell_type": "code",
   "execution_count": 173,
   "metadata": {},
   "outputs": [
    {
     "data": {
      "image/png": "[encoded data removed]",
      "text/plain": [
       "<Figure size 1440x576 with 2 Axes>"
      ]
     },
     "metadata": {},
     "output_type": "display_data"
    }
   ],
   "source": [
    "fig, ax = plt.subplots(nrows=1, ncols=2, figsize = (20, 8));\n",
    "\n",
    "ax[0].scatter(y_test, ridge_model.predict(X_test_slr));\n",
    "ax[0].set_title('Actual vs. Predicted with outlier\\n', fontsize=36, weight='bold');\n",
    "\n",
    "ax[1].scatter(y_test, ridge_model.predict(X_test_slr));\n",
    "ax[1].set_ylim(0, 450000);\n",
    "ax[1].set_title('Actual vs. Predicted - no outlier\\n', fontsize=36, weight='bold');\n",
    "\n",
    "ax[0].tick_params(labelsize=20);\n",
    "ax[1].tick_params(labelsize=20);\n",
    "\n",
    "\n",
    "ax[0].set_ylabel('Actual Values', fontsize=22, weight='bold');\n",
    "\n",
    "ax[0].set_xlabel('Predicted Values', fontsize=22, weight='bold');\n",
    "ax[1].set_xlabel('Predicted Values', fontsize=22, weight='bold');"
   ]
  },
  {
   "cell_type": "markdown",
   "metadata": {},
   "source": [
    "**Takeaways:** hmm... something funky happened."
   ]
  },
  {
   "cell_type": "markdown",
   "metadata": {},
   "source": [
    "### LassoCV"
   ]
  },
  {
   "cell_type": "code",
   "execution_count": 158,
   "metadata": {},
   "outputs": [
    {
     "name": "stdout",
     "output_type": "stream",
     "text": [
      "46620.89192517357\n"
     ]
    },
    {
     "data": {
      "text/plain": [
       "(0.7746897437374144, 0.6968826995212365)"
      ]
     },
     "execution_count": 158,
     "metadata": {},
     "output_type": "execute_result"
    }
   ],
   "source": [
    "# l_alphas = np.arange(0.001, 0.15, 0.0025)\n",
    "\n",
    "lasso_model = LassoCV()\n",
    "lasso_model = lasso_model.fit(X_train_slr, y_train)\n",
    "\n",
    "lasso_optimal_alpha = lasso_model.alpha_\n",
    "lasso_optimal_alpha\n",
    "\n",
    "lasso_cv_means = [np.mean(cv_alpha) for cv_alpha in lasso_model.mse_path_]\n",
    "\n",
    "lasso_cv_rsme = np.sqrt(np.mean(lasso_cv_means))\n",
    "print(lasso_cv_rsme)\n",
    "\n",
    "lasso_model.score(X_train_slr, y_train), lasso_model.score(X_test_slr, y_test)"
   ]
  },
  {
   "cell_type": "code",
   "execution_count": 172,
   "metadata": {
    "scrolled": true
   },
   "outputs": [
    {
     "data": {
      "image/png": "[encoded data removed]",
      "text/plain": [
       "<Figure size 1440x576 with 2 Axes>"
      ]
     },
     "metadata": {},
     "output_type": "display_data"
    }
   ],
   "source": [
    "fig, ax = plt.subplots(nrows=1, ncols=2, figsize = (20, 8));\n",
    "\n",
    "ax[0].scatter(y_test, lasso_model.predict(X_test_slr));\n",
    "ax[0].set_title('Actual vs. Predicted with outlier\\n', fontsize=36, weight='bold');\n",
    "\n",
    "ax[1].scatter(y_test, lasso_model.predict(X_test_slr));\n",
    "ax[1].set_ylim(0, 450000);\n",
    "ax[1].set_title('Actual vs. Predicted - no outlier\\n', fontsize=36, weight='bold');\n",
    "\n",
    "ax[0].tick_params(labelsize=20);\n",
    "ax[1].tick_params(labelsize=20);\n",
    "\n",
    "\n",
    "ax[0].set_ylabel('Actual Values', fontsize=22, weight='bold');\n",
    "\n",
    "ax[0].set_xlabel('Predicted Values', fontsize=22, weight='bold');\n",
    "ax[1].set_xlabel('Predicted Values', fontsize=22, weight='bold');"
   ]
  },
  {
   "cell_type": "markdown",
   "metadata": {},
   "source": [
    "** Okay, let's see how this Lasso model actually did.**"
   ]
  },
  {
   "cell_type": "code",
   "execution_count": 1171,
   "metadata": {},
   "outputs": [],
   "source": [
    "test = pd.read_csv('./test.csv')"
   ]
  },
  {
   "cell_type": "code",
   "execution_count": 1172,
   "metadata": {},
   "outputs": [],
   "source": [
    "lotfill = test.loc[test[test['Lot Frontage'].isnull()].index, 'Lot Shape'].map(test.groupby('Lot Shape').agg('mean')['Lot Frontage'])\n",
    "\n",
    "test.loc[:,'Lot Frontage'] = test.loc[:,'Lot Frontage'].fillna(lotfill)\n",
    "\n",
    "## now filling every other NaN value with just the column mean:\n",
    "test = test.fillna(test.mean())\n",
    "\n",
    "\n",
    "X_test_test = test.loc[:,numeric_cols]\n",
    "X_test_test = X_test_test.drop(drop_cols, axis=1)"
   ]
  },
  {
   "cell_type": "code",
   "execution_count": 1173,
   "metadata": {},
   "outputs": [
    {
     "data": {
      "text/plain": [
       "(879, 28)"
      ]
     },
     "execution_count": 1173,
     "metadata": {},
     "output_type": "execute_result"
    }
   ],
   "source": [
    "X_test_test.shape"
   ]
  },
  {
   "cell_type": "markdown",
   "metadata": {},
   "source": [
    "**re-running the model to fit on all of our data so that we can fit it extra nice for the test data**"
   ]
  },
  {
   "cell_type": "code",
   "execution_count": 1174,
   "metadata": {},
   "outputs": [],
   "source": [
    "yhat = lasso_model.predict(X_test_test)"
   ]
  },
  {
   "cell_type": "code",
   "execution_count": 1175,
   "metadata": {},
   "outputs": [],
   "source": [
    "submission4 = pd.DataFrame(data=yhat, columns=['SalePrice'], index=test['Id'])"
   ]
  },
  {
   "cell_type": "code",
   "execution_count": 1176,
   "metadata": {},
   "outputs": [
    {
     "name": "stdout",
     "output_type": "stream",
     "text": [
      "SalePrice    1.881706e+07\n",
      "dtype: float64\n"
     ]
    },
    {
     "data": {
      "image/png": "[encoded data removed]",
      "text/plain": [
       "<Figure size 432x288 with 1 Axes>"
      ]
     },
     "metadata": {},
     "output_type": "display_data"
    }
   ],
   "source": [
    "print(submission4.min())\n",
    "submission4.hist();"
   ]
  },
  {
   "cell_type": "code",
   "execution_count": 1177,
   "metadata": {},
   "outputs": [],
   "source": [
    "## commenting out so it doesn't re-save when you run it :P\n",
    "# submission4.to_csv('./Submissions/project2submit_jq04_05.17.18.csv')"
   ]
  },
  {
   "cell_type": "markdown",
   "metadata": {},
   "source": [
    "### ElasticNet??"
   ]
  },
  {
   "cell_type": "code",
   "execution_count": 1178,
   "metadata": {},
   "outputs": [
    {
     "name": "stdout",
     "output_type": "stream",
     "text": [
      "Optimal alpha: 1581.9905796129767\n",
      "Optimal l1 ratio: 1.0\n",
      "Min. RMSE: 77190.63681379844\n",
      "Train score: 0.7740193753991655\n",
      "Test score: 0.6971113370461124\n"
     ]
    }
   ],
   "source": [
    "l1_ratios = np.linspace(0.05, 1, 19)\n",
    "\n",
    "elastic_model = ElasticNetCV(l1_ratio=l1_ratios, cv=5, n_alphas=100)\n",
    "elastic_model = elastic_model.fit(X_train_slr, y_train)\n",
    "\n",
    "elastic_optimal_alpha = elastic_model.alpha_\n",
    "elastic_cv_means = [np.mean(cv_alpha) for cv_alpha in elastic_model.mse_path_]\n",
    "\n",
    "\n",
    "print('Optimal alpha:',elastic_optimal_alpha)\n",
    "print('Optimal l1 ratio:',elastic_model.l1_ratio_)\n",
    "print('Min. RMSE:', np.sqrt(np.mean(elastic_cv_means)))\n",
    "print('Train score:',elastic_model.score(X_train_slr, y_train))\n",
    "print('Test score:',elastic_model.score(X_test_slr, y_test))"
   ]
  },
  {
   "cell_type": "code",
   "execution_count": 1179,
   "metadata": {},
   "outputs": [
    {
     "data": {
      "image/png": "[encoded data removed]",
      "text/plain": [
       "<Figure size 432x288 with 1 Axes>"
      ]
     },
     "metadata": {},
     "output_type": "display_data"
    }
   ],
   "source": [
    "plt.scatter(y_test, elastic_model.predict(X_test_slr));"
   ]
  },
  {
   "cell_type": "markdown",
   "metadata": {},
   "source": [
    "These scores are still not very good and the scatter plot (actual y vs. predicted y) on this looks worse than the others. Time to abandon ship and try a new direction."
   ]
  },
  {
   "cell_type": "markdown",
   "metadata": {},
   "source": [
    "### Okay, going to try that LR one more time, but with PolyFeatures\n",
    "\n",
    "Let's see if some of these interaction terms help."
   ]
  },
  {
   "cell_type": "code",
   "execution_count": 1180,
   "metadata": {},
   "outputs": [],
   "source": [
    "from sklearn.preprocessing import PolynomialFeatures\n",
    "from sklearn.pipeline import Pipeline"
   ]
  },
  {
   "cell_type": "code",
   "execution_count": 1181,
   "metadata": {},
   "outputs": [],
   "source": [
    "X_test_pff = X_test.loc[:,numeric_cols]\n",
    "X_test_pff = X_test_pff.drop(drop_cols, axis=1)\n",
    "X_train_pff = eda.drop(['SalePrice'], axis=1)\n",
    "\n",
    "\n",
    "ss = StandardScaler()\n",
    "pf = PolynomialFeatures(interaction_only=False, include_bias=False)\n",
    "ridge = RidgeCV()\n",
    "\n",
    "pipey = Pipeline([\n",
    "    ('ss', ss),\n",
    "    ('pf', pf),\n",
    "    ('ridge',ridge)\n",
    "])"
   ]
  },
  {
   "cell_type": "code",
   "execution_count": 1182,
   "metadata": {},
   "outputs": [
    {
     "data": {
      "text/plain": [
       "Pipeline(memory=None,\n",
       "     steps=[('ss', StandardScaler(copy=True, with_mean=True, with_std=True)), ('pf', PolynomialFeatures(degree=2, include_bias=False, interaction_only=False)), ('ridge', RidgeCV(alphas=(0.1, 1.0, 10.0), cv=None, fit_intercept=True, gcv_mode=None,\n",
       "    normalize=False, scoring=None, store_cv_values=False))])"
      ]
     },
     "execution_count": 1182,
     "metadata": {},
     "output_type": "execute_result"
    }
   ],
   "source": [
    "pipey.fit(X_train_pff, y_train)"
   ]
  },
  {
   "cell_type": "code",
   "execution_count": 1183,
   "metadata": {
    "scrolled": false
   },
   "outputs": [
    {
     "data": {
      "text/plain": [
       "0.9266096026405246"
      ]
     },
     "execution_count": 1183,
     "metadata": {},
     "output_type": "execute_result"
    }
   ],
   "source": [
    "pipey.score(X_train_pff, y_train)"
   ]
  },
  {
   "cell_type": "markdown",
   "metadata": {},
   "source": [
    "- whoa, really good!"
   ]
  },
  {
   "cell_type": "code",
   "execution_count": 1184,
   "metadata": {},
   "outputs": [
    {
     "data": {
      "text/plain": [
       "0.5671859802889357"
      ]
     },
     "execution_count": 1184,
     "metadata": {},
     "output_type": "execute_result"
    }
   ],
   "source": [
    "pipey.score(X_test_pff, y_test)"
   ]
  },
  {
   "cell_type": "markdown",
   "metadata": {},
   "source": [
    "- boooo, massively overfit :("
   ]
  },
  {
   "cell_type": "code",
   "execution_count": 1185,
   "metadata": {},
   "outputs": [
    {
     "data": {
      "image/png": "[encoded data removed]",
      "text/plain": [
       "<Figure size 432x288 with 1 Axes>"
      ]
     },
     "metadata": {},
     "output_type": "display_data"
    }
   ],
   "source": [
    "plt.scatter(y_test, pipey.predict(X_test_pff));"
   ]
  },
  {
   "cell_type": "code",
   "execution_count": null,
   "metadata": {},
   "outputs": [],
   "source": []
  },
  {
   "cell_type": "raw",
   "metadata": {},
   "source": [
    "### Trying something new... gonna do feature selection via RFE"
   ]
  },
  {
   "cell_type": "code",
   "execution_count": null,
   "metadata": {},
   "outputs": [],
   "source": []
  },
  {
   "cell_type": "code",
   "execution_count": 1186,
   "metadata": {},
   "outputs": [],
   "source": [
    "from sklearn.feature_selection import RFE, RFECV"
   ]
  },
  {
   "cell_type": "code",
   "execution_count": 1187,
   "metadata": {},
   "outputs": [
    {
     "data": {
      "text/plain": [
       "RFECV(cv=10,\n",
       "   estimator=LinearRegression(copy_X=True, fit_intercept=True, n_jobs=1, normalize=False),\n",
       "   n_jobs=1, scoring=None, step=1, verbose=0)"
      ]
     },
     "execution_count": 1187,
     "metadata": {},
     "output_type": "execute_result"
    }
   ],
   "source": [
    "lr = LinearRegression()\n",
    "rfecv = RFECV(lr, cv=10)\n",
    "rfecv.fit(X_train_slr, y_train)"
   ]
  },
  {
   "cell_type": "code",
   "execution_count": 1188,
   "metadata": {},
   "outputs": [
    {
     "data": {
      "text/plain": [
       "22"
      ]
     },
     "execution_count": 1188,
     "metadata": {},
     "output_type": "execute_result"
    }
   ],
   "source": [
    "rfecv.support_.sum()"
   ]
  },
  {
   "cell_type": "code",
   "execution_count": 1189,
   "metadata": {},
   "outputs": [
    {
     "data": {
      "text/plain": [
       "0.6871978486826082"
      ]
     },
     "execution_count": 1189,
     "metadata": {},
     "output_type": "execute_result"
    }
   ],
   "source": [
    "rfecv.score(X_test_slr, y_test)"
   ]
  },
  {
   "cell_type": "code",
   "execution_count": 1190,
   "metadata": {},
   "outputs": [],
   "source": [
    "check = eda.iloc[:,:-1]\n",
    "ftcols = pd.DataFrame(list(zip(check.columns, rfecv.support_)))"
   ]
  },
  {
   "cell_type": "code",
   "execution_count": 1191,
   "metadata": {},
   "outputs": [
    {
     "data": {
      "text/html": [
       "<div>\n",
       "<style scoped>\n",
       "    .dataframe tbody tr th:only-of-type {\n",
       "        vertical-align: middle;\n",
       "    }\n",
       "\n",
       "    .dataframe tbody tr th {\n",
       "        vertical-align: top;\n",
       "    }\n",
       "\n",
       "    .dataframe thead th {\n",
       "        text-align: right;\n",
       "    }\n",
       "</style>\n",
       "<table border=\"1\" class=\"dataframe\">\n",
       "  <thead>\n",
       "    <tr style=\"text-align: right;\">\n",
       "      <th></th>\n",
       "      <th>0</th>\n",
       "      <th>1</th>\n",
       "    </tr>\n",
       "  </thead>\n",
       "  <tbody>\n",
       "    <tr>\n",
       "      <th>0</th>\n",
       "      <td>Lot Frontage</td>\n",
       "      <td>False</td>\n",
       "    </tr>\n",
       "    <tr>\n",
       "      <th>1</th>\n",
       "      <td>Lot Area</td>\n",
       "      <td>False</td>\n",
       "    </tr>\n",
       "    <tr>\n",
       "      <th>2</th>\n",
       "      <td>Mas Vnr Area</td>\n",
       "      <td>True</td>\n",
       "    </tr>\n",
       "    <tr>\n",
       "      <th>3</th>\n",
       "      <td>BsmtFin SF 1</td>\n",
       "      <td>True</td>\n",
       "    </tr>\n",
       "    <tr>\n",
       "      <th>4</th>\n",
       "      <td>BsmtFin SF 2</td>\n",
       "      <td>False</td>\n",
       "    </tr>\n",
       "    <tr>\n",
       "      <th>5</th>\n",
       "      <td>Bsmt Unf SF</td>\n",
       "      <td>True</td>\n",
       "    </tr>\n",
       "    <tr>\n",
       "      <th>6</th>\n",
       "      <td>Total Bsmt SF</td>\n",
       "      <td>True</td>\n",
       "    </tr>\n",
       "    <tr>\n",
       "      <th>7</th>\n",
       "      <td>1st Flr SF</td>\n",
       "      <td>True</td>\n",
       "    </tr>\n",
       "    <tr>\n",
       "      <th>8</th>\n",
       "      <td>2nd Flr SF</td>\n",
       "      <td>True</td>\n",
       "    </tr>\n",
       "    <tr>\n",
       "      <th>9</th>\n",
       "      <td>Low Qual Fin SF</td>\n",
       "      <td>True</td>\n",
       "    </tr>\n",
       "    <tr>\n",
       "      <th>10</th>\n",
       "      <td>Gr Liv Area</td>\n",
       "      <td>True</td>\n",
       "    </tr>\n",
       "    <tr>\n",
       "      <th>11</th>\n",
       "      <td>Bsmt Full Bath</td>\n",
       "      <td>True</td>\n",
       "    </tr>\n",
       "    <tr>\n",
       "      <th>12</th>\n",
       "      <td>Bsmt Half Bath</td>\n",
       "      <td>False</td>\n",
       "    </tr>\n",
       "    <tr>\n",
       "      <th>13</th>\n",
       "      <td>Full Bath</td>\n",
       "      <td>True</td>\n",
       "    </tr>\n",
       "    <tr>\n",
       "      <th>14</th>\n",
       "      <td>Half Bath</td>\n",
       "      <td>True</td>\n",
       "    </tr>\n",
       "    <tr>\n",
       "      <th>15</th>\n",
       "      <td>Bedroom AbvGr</td>\n",
       "      <td>True</td>\n",
       "    </tr>\n",
       "    <tr>\n",
       "      <th>16</th>\n",
       "      <td>Kitchen AbvGr</td>\n",
       "      <td>True</td>\n",
       "    </tr>\n",
       "    <tr>\n",
       "      <th>17</th>\n",
       "      <td>TotRms AbvGrd</td>\n",
       "      <td>True</td>\n",
       "    </tr>\n",
       "    <tr>\n",
       "      <th>18</th>\n",
       "      <td>Fireplaces</td>\n",
       "      <td>True</td>\n",
       "    </tr>\n",
       "    <tr>\n",
       "      <th>19</th>\n",
       "      <td>Garage Cars</td>\n",
       "      <td>True</td>\n",
       "    </tr>\n",
       "    <tr>\n",
       "      <th>20</th>\n",
       "      <td>Garage Area</td>\n",
       "      <td>True</td>\n",
       "    </tr>\n",
       "    <tr>\n",
       "      <th>21</th>\n",
       "      <td>Wood Deck SF</td>\n",
       "      <td>True</td>\n",
       "    </tr>\n",
       "    <tr>\n",
       "      <th>22</th>\n",
       "      <td>Open Porch SF</td>\n",
       "      <td>True</td>\n",
       "    </tr>\n",
       "    <tr>\n",
       "      <th>23</th>\n",
       "      <td>Enclosed Porch</td>\n",
       "      <td>True</td>\n",
       "    </tr>\n",
       "    <tr>\n",
       "      <th>24</th>\n",
       "      <td>3Ssn Porch</td>\n",
       "      <td>False</td>\n",
       "    </tr>\n",
       "    <tr>\n",
       "      <th>25</th>\n",
       "      <td>Screen Porch</td>\n",
       "      <td>True</td>\n",
       "    </tr>\n",
       "    <tr>\n",
       "      <th>26</th>\n",
       "      <td>Pool Area</td>\n",
       "      <td>True</td>\n",
       "    </tr>\n",
       "    <tr>\n",
       "      <th>27</th>\n",
       "      <td>Misc Val</td>\n",
       "      <td>False</td>\n",
       "    </tr>\n",
       "  </tbody>\n",
       "</table>\n",
       "</div>"
      ],
      "text/plain": [
       "                  0      1\n",
       "0      Lot Frontage  False\n",
       "1          Lot Area  False\n",
       "2      Mas Vnr Area   True\n",
       "3      BsmtFin SF 1   True\n",
       "4      BsmtFin SF 2  False\n",
       "5       Bsmt Unf SF   True\n",
       "6     Total Bsmt SF   True\n",
       "7        1st Flr SF   True\n",
       "8        2nd Flr SF   True\n",
       "9   Low Qual Fin SF   True\n",
       "10      Gr Liv Area   True\n",
       "11   Bsmt Full Bath   True\n",
       "12   Bsmt Half Bath  False\n",
       "13        Full Bath   True\n",
       "14        Half Bath   True\n",
       "15    Bedroom AbvGr   True\n",
       "16    Kitchen AbvGr   True\n",
       "17    TotRms AbvGrd   True\n",
       "18       Fireplaces   True\n",
       "19      Garage Cars   True\n",
       "20      Garage Area   True\n",
       "21     Wood Deck SF   True\n",
       "22    Open Porch SF   True\n",
       "23   Enclosed Porch   True\n",
       "24       3Ssn Porch  False\n",
       "25     Screen Porch   True\n",
       "26        Pool Area   True\n",
       "27         Misc Val  False"
      ]
     },
     "execution_count": 1191,
     "metadata": {},
     "output_type": "execute_result"
    }
   ],
   "source": [
    "ftcols"
   ]
  },
  {
   "cell_type": "code",
   "execution_count": 1192,
   "metadata": {},
   "outputs": [
    {
     "data": {
      "text/plain": [
       "RFE(estimator=LinearRegression(copy_X=True, fit_intercept=True, n_jobs=1, normalize=False),\n",
       "  n_features_to_select=None, step=1, verbose=0)"
      ]
     },
     "execution_count": 1192,
     "metadata": {},
     "output_type": "execute_result"
    }
   ],
   "source": [
    "rfe = RFE(LinearRegression())\n",
    "rfe.fit(X_train_slr, y_train)"
   ]
  },
  {
   "cell_type": "code",
   "execution_count": 1193,
   "metadata": {},
   "outputs": [
    {
     "data": {
      "text/plain": [
       "0.6790947980839777"
      ]
     },
     "execution_count": 1193,
     "metadata": {},
     "output_type": "execute_result"
    }
   ],
   "source": [
    "rfe.score(X_test_slr, y_test)"
   ]
  },
  {
   "cell_type": "code",
   "execution_count": 1194,
   "metadata": {},
   "outputs": [
    {
     "data": {
      "text/plain": [
       "14"
      ]
     },
     "execution_count": 1194,
     "metadata": {},
     "output_type": "execute_result"
    }
   ],
   "source": [
    "rfe.support_.sum()"
   ]
  },
  {
   "cell_type": "code",
   "execution_count": 1195,
   "metadata": {
    "scrolled": true
   },
   "outputs": [
    {
     "data": {
      "text/html": [
       "<div>\n",
       "<style scoped>\n",
       "    .dataframe tbody tr th:only-of-type {\n",
       "        vertical-align: middle;\n",
       "    }\n",
       "\n",
       "    .dataframe tbody tr th {\n",
       "        vertical-align: top;\n",
       "    }\n",
       "\n",
       "    .dataframe thead th {\n",
       "        text-align: right;\n",
       "    }\n",
       "</style>\n",
       "<table border=\"1\" class=\"dataframe\">\n",
       "  <thead>\n",
       "    <tr style=\"text-align: right;\">\n",
       "      <th></th>\n",
       "      <th>feature</th>\n",
       "      <th>include</th>\n",
       "      <th>rank</th>\n",
       "    </tr>\n",
       "  </thead>\n",
       "  <tbody>\n",
       "    <tr>\n",
       "      <th>0</th>\n",
       "      <td>Lot Frontage</td>\n",
       "      <td>False</td>\n",
       "      <td>10</td>\n",
       "    </tr>\n",
       "    <tr>\n",
       "      <th>1</th>\n",
       "      <td>Lot Area</td>\n",
       "      <td>False</td>\n",
       "      <td>11</td>\n",
       "    </tr>\n",
       "    <tr>\n",
       "      <th>2</th>\n",
       "      <td>Mas Vnr Area</td>\n",
       "      <td>True</td>\n",
       "      <td>1</td>\n",
       "    </tr>\n",
       "    <tr>\n",
       "      <th>3</th>\n",
       "      <td>BsmtFin SF 1</td>\n",
       "      <td>True</td>\n",
       "      <td>1</td>\n",
       "    </tr>\n",
       "    <tr>\n",
       "      <th>4</th>\n",
       "      <td>BsmtFin SF 2</td>\n",
       "      <td>False</td>\n",
       "      <td>13</td>\n",
       "    </tr>\n",
       "    <tr>\n",
       "      <th>5</th>\n",
       "      <td>Bsmt Unf SF</td>\n",
       "      <td>False</td>\n",
       "      <td>2</td>\n",
       "    </tr>\n",
       "    <tr>\n",
       "      <th>6</th>\n",
       "      <td>Total Bsmt SF</td>\n",
       "      <td>True</td>\n",
       "      <td>1</td>\n",
       "    </tr>\n",
       "    <tr>\n",
       "      <th>7</th>\n",
       "      <td>1st Flr SF</td>\n",
       "      <td>True</td>\n",
       "      <td>1</td>\n",
       "    </tr>\n",
       "    <tr>\n",
       "      <th>8</th>\n",
       "      <td>2nd Flr SF</td>\n",
       "      <td>True</td>\n",
       "      <td>1</td>\n",
       "    </tr>\n",
       "    <tr>\n",
       "      <th>9</th>\n",
       "      <td>Low Qual Fin SF</td>\n",
       "      <td>False</td>\n",
       "      <td>9</td>\n",
       "    </tr>\n",
       "    <tr>\n",
       "      <th>10</th>\n",
       "      <td>Gr Liv Area</td>\n",
       "      <td>True</td>\n",
       "      <td>1</td>\n",
       "    </tr>\n",
       "    <tr>\n",
       "      <th>11</th>\n",
       "      <td>Bsmt Full Bath</td>\n",
       "      <td>True</td>\n",
       "      <td>1</td>\n",
       "    </tr>\n",
       "    <tr>\n",
       "      <th>12</th>\n",
       "      <td>Bsmt Half Bath</td>\n",
       "      <td>False</td>\n",
       "      <td>12</td>\n",
       "    </tr>\n",
       "    <tr>\n",
       "      <th>13</th>\n",
       "      <td>Full Bath</td>\n",
       "      <td>True</td>\n",
       "      <td>1</td>\n",
       "    </tr>\n",
       "    <tr>\n",
       "      <th>14</th>\n",
       "      <td>Half Bath</td>\n",
       "      <td>True</td>\n",
       "      <td>1</td>\n",
       "    </tr>\n",
       "    <tr>\n",
       "      <th>15</th>\n",
       "      <td>Bedroom AbvGr</td>\n",
       "      <td>True</td>\n",
       "      <td>1</td>\n",
       "    </tr>\n",
       "    <tr>\n",
       "      <th>16</th>\n",
       "      <td>Kitchen AbvGr</td>\n",
       "      <td>True</td>\n",
       "      <td>1</td>\n",
       "    </tr>\n",
       "    <tr>\n",
       "      <th>17</th>\n",
       "      <td>TotRms AbvGrd</td>\n",
       "      <td>True</td>\n",
       "      <td>1</td>\n",
       "    </tr>\n",
       "    <tr>\n",
       "      <th>18</th>\n",
       "      <td>Fireplaces</td>\n",
       "      <td>False</td>\n",
       "      <td>6</td>\n",
       "    </tr>\n",
       "    <tr>\n",
       "      <th>19</th>\n",
       "      <td>Garage Cars</td>\n",
       "      <td>True</td>\n",
       "      <td>1</td>\n",
       "    </tr>\n",
       "    <tr>\n",
       "      <th>20</th>\n",
       "      <td>Garage Area</td>\n",
       "      <td>False</td>\n",
       "      <td>5</td>\n",
       "    </tr>\n",
       "    <tr>\n",
       "      <th>21</th>\n",
       "      <td>Wood Deck SF</td>\n",
       "      <td>False</td>\n",
       "      <td>3</td>\n",
       "    </tr>\n",
       "    <tr>\n",
       "      <th>22</th>\n",
       "      <td>Open Porch SF</td>\n",
       "      <td>False</td>\n",
       "      <td>7</td>\n",
       "    </tr>\n",
       "    <tr>\n",
       "      <th>23</th>\n",
       "      <td>Enclosed Porch</td>\n",
       "      <td>False</td>\n",
       "      <td>8</td>\n",
       "    </tr>\n",
       "    <tr>\n",
       "      <th>24</th>\n",
       "      <td>3Ssn Porch</td>\n",
       "      <td>False</td>\n",
       "      <td>15</td>\n",
       "    </tr>\n",
       "    <tr>\n",
       "      <th>25</th>\n",
       "      <td>Screen Porch</td>\n",
       "      <td>False</td>\n",
       "      <td>4</td>\n",
       "    </tr>\n",
       "    <tr>\n",
       "      <th>26</th>\n",
       "      <td>Pool Area</td>\n",
       "      <td>True</td>\n",
       "      <td>1</td>\n",
       "    </tr>\n",
       "    <tr>\n",
       "      <th>27</th>\n",
       "      <td>Misc Val</td>\n",
       "      <td>False</td>\n",
       "      <td>14</td>\n",
       "    </tr>\n",
       "  </tbody>\n",
       "</table>\n",
       "</div>"
      ],
      "text/plain": [
       "            feature  include  rank\n",
       "0      Lot Frontage    False    10\n",
       "1          Lot Area    False    11\n",
       "2      Mas Vnr Area     True     1\n",
       "3      BsmtFin SF 1     True     1\n",
       "4      BsmtFin SF 2    False    13\n",
       "5       Bsmt Unf SF    False     2\n",
       "6     Total Bsmt SF     True     1\n",
       "7        1st Flr SF     True     1\n",
       "8        2nd Flr SF     True     1\n",
       "9   Low Qual Fin SF    False     9\n",
       "10      Gr Liv Area     True     1\n",
       "11   Bsmt Full Bath     True     1\n",
       "12   Bsmt Half Bath    False    12\n",
       "13        Full Bath     True     1\n",
       "14        Half Bath     True     1\n",
       "15    Bedroom AbvGr     True     1\n",
       "16    Kitchen AbvGr     True     1\n",
       "17    TotRms AbvGrd     True     1\n",
       "18       Fireplaces    False     6\n",
       "19      Garage Cars     True     1\n",
       "20      Garage Area    False     5\n",
       "21     Wood Deck SF    False     3\n",
       "22    Open Porch SF    False     7\n",
       "23   Enclosed Porch    False     8\n",
       "24       3Ssn Porch    False    15\n",
       "25     Screen Porch    False     4\n",
       "26        Pool Area     True     1\n",
       "27         Misc Val    False    14"
      ]
     },
     "execution_count": 1195,
     "metadata": {},
     "output_type": "execute_result"
    }
   ],
   "source": [
    "rfecols = pd.DataFrame(list(zip(check.columns, rfe.support_, rfe.ranking_)), columns=['feature','include','rank'])\n",
    "rfecols"
   ]
  },
  {
   "cell_type": "code",
   "execution_count": 1196,
   "metadata": {},
   "outputs": [
    {
     "data": {
      "text/plain": [
       "RFE(estimator=RidgeCV(alphas=(0.1, 1.0, 10.0), cv=None, fit_intercept=True, gcv_mode=None,\n",
       "    normalize=False, scoring=None, store_cv_values=False),\n",
       "  n_features_to_select=None, step=1, verbose=0)"
      ]
     },
     "execution_count": 1196,
     "metadata": {},
     "output_type": "execute_result"
    }
   ],
   "source": [
    "## trying something weird?\n",
    "rfer = RFE(RidgeCV())\n",
    "rfer.fit(X_train_slr, y_train)"
   ]
  },
  {
   "cell_type": "code",
   "execution_count": 1197,
   "metadata": {},
   "outputs": [
    {
     "data": {
      "text/plain": [
       "0.6794643067527392"
      ]
     },
     "execution_count": 1197,
     "metadata": {},
     "output_type": "execute_result"
    }
   ],
   "source": [
    "rfer.score(X_test_slr, y_test)"
   ]
  },
  {
   "cell_type": "markdown",
   "metadata": {},
   "source": [
    "** Trying again, but with only highly correlated cols **"
   ]
  },
  {
   "cell_type": "code",
   "execution_count": 1198,
   "metadata": {},
   "outputs": [],
   "source": [
    "corr = abs(eda.corr()['SalePrice']).sort_values(ascending=False)[1:]"
   ]
  },
  {
   "cell_type": "code",
   "execution_count": 1199,
   "metadata": {},
   "outputs": [],
   "source": [
    "newcols = [corr.index[i] for i,_ in enumerate(corr) if _ > 0.5]"
   ]
  },
  {
   "cell_type": "code",
   "execution_count": 1200,
   "metadata": {},
   "outputs": [],
   "source": [
    "Xtr_new = eda[newcols]\n",
    "Xte_new = X_test[newcols]"
   ]
  },
  {
   "cell_type": "code",
   "execution_count": 1201,
   "metadata": {},
   "outputs": [],
   "source": [
    "ss = StandardScaler()\n",
    "Xtr_new = ss.fit_transform(Xtr_new)\n",
    "Xte_new = ss.transform(Xte_new)"
   ]
  },
  {
   "cell_type": "code",
   "execution_count": 1202,
   "metadata": {},
   "outputs": [
    {
     "data": {
      "text/plain": [
       "LinearRegression(copy_X=True, fit_intercept=True, n_jobs=1, normalize=False)"
      ]
     },
     "execution_count": 1202,
     "metadata": {},
     "output_type": "execute_result"
    }
   ],
   "source": [
    "lr = LinearRegression()\n",
    "lr.fit(Xtr_new, y_train)"
   ]
  },
  {
   "cell_type": "code",
   "execution_count": 1203,
   "metadata": {
    "scrolled": true
   },
   "outputs": [
    {
     "data": {
      "text/plain": [
       "0.6233116497519148"
      ]
     },
     "execution_count": 1203,
     "metadata": {},
     "output_type": "execute_result"
    }
   ],
   "source": [
    "cross_val_score(lr, Xte_new, y_test).mean()"
   ]
  },
  {
   "cell_type": "code",
   "execution_count": 1204,
   "metadata": {},
   "outputs": [
    {
     "data": {
      "image/png": "[encoded data removed]",
      "text/plain": [
       "<Figure size 432x288 with 1 Axes>"
      ]
     },
     "metadata": {},
     "output_type": "display_data"
    }
   ],
   "source": [
    "plt.scatter(y_test, lr.predict(Xte_new));"
   ]
  },
  {
   "cell_type": "code",
   "execution_count": 1205,
   "metadata": {},
   "outputs": [
    {
     "name": "stdout",
     "output_type": "stream",
     "text": [
      "0.6021465636038267\n"
     ]
    },
    {
     "data": {
      "image/png": "[encoded data removed]",
      "text/plain": [
       "<Figure size 432x288 with 1 Axes>"
      ]
     },
     "metadata": {},
     "output_type": "display_data"
    }
   ],
   "source": [
    "xs = []\n",
    "ys = []\n",
    "for i in range(3,16):\n",
    "    xs.append(i)\n",
    "    ys.append(cross_val_score(lr, Xte_new, y_test, cv=i).mean())\n",
    "    \n",
    "    \n",
    "plt.plot(xs, ys);\n",
    "print(np.mean(ys))"
   ]
  },
  {
   "cell_type": "markdown",
   "metadata": {},
   "source": [
    "** next try with Ridge**"
   ]
  },
  {
   "cell_type": "code",
   "execution_count": 1206,
   "metadata": {},
   "outputs": [
    {
     "data": {
      "text/plain": [
       "(162.5755666443795, 5463171277.024735)"
      ]
     },
     "execution_count": 1206,
     "metadata": {},
     "output_type": "execute_result"
    }
   ],
   "source": [
    "r_alphas = np.logspace(0, 20, 200)\n",
    "\n",
    "## build a Ridge model with cross-validation to search for best alpha within range given\n",
    "ridge_model = RidgeCV(alphas = r_alphas, store_cv_values=True)\n",
    "ridge_model = ridge_model.fit(Xtr_new, y_train)\n",
    "\n",
    "ridge_optimal_alpha = ridge_model.alpha_\n",
    "\n",
    "ridge_cv_means = [np.mean(cv_alpha) for cv_alpha in ridge_model.cv_values_.T]\n",
    "\n",
    "ridge_optimal_alpha, np.mean(ridge_cv_means)"
   ]
  },
  {
   "cell_type": "code",
   "execution_count": 1207,
   "metadata": {
    "scrolled": true
   },
   "outputs": [
    {
     "data": {
      "image/png": "[encoded data removed]",
      "text/plain": [
       "<Figure size 864x576 with 1 Axes>"
      ]
     },
     "metadata": {},
     "output_type": "display_data"
    }
   ],
   "source": [
    "plot_cv(ridge_model.alphas, ridge_cv_means, ridge_optimal_alpha, lr_cv_mean_mse, log=True)"
   ]
  },
  {
   "cell_type": "code",
   "execution_count": 1208,
   "metadata": {},
   "outputs": [
    {
     "data": {
      "text/plain": [
       "(0.7164815651594408, 0.647622189395852)"
      ]
     },
     "execution_count": 1208,
     "metadata": {},
     "output_type": "execute_result"
    }
   ],
   "source": [
    "ridge_model.score(Xtr_new, y_train), ridge_model.score(Xte_new, y_test)"
   ]
  },
  {
   "cell_type": "markdown",
   "metadata": {},
   "source": [
    "### Trying some work with Pipeline + Poly + GridSearchCV"
   ]
  },
  {
   "cell_type": "code",
   "execution_count": 1209,
   "metadata": {},
   "outputs": [],
   "source": [
    "from sklearn.model_selection import GridSearchCV"
   ]
  },
  {
   "cell_type": "code",
   "execution_count": 1210,
   "metadata": {},
   "outputs": [],
   "source": [
    "test = pd.read_csv('./test.csv')"
   ]
  },
  {
   "cell_type": "code",
   "execution_count": 1211,
   "metadata": {},
   "outputs": [],
   "source": [
    "mega = pd.concat([train, test])"
   ]
  },
  {
   "cell_type": "code",
   "execution_count": 1212,
   "metadata": {},
   "outputs": [
    {
     "data": {
      "text/html": [
       "<div>\n",
       "<style scoped>\n",
       "    .dataframe tbody tr th:only-of-type {\n",
       "        vertical-align: middle;\n",
       "    }\n",
       "\n",
       "    .dataframe tbody tr th {\n",
       "        vertical-align: top;\n",
       "    }\n",
       "\n",
       "    .dataframe thead th {\n",
       "        text-align: right;\n",
       "    }\n",
       "</style>\n",
       "<table border=\"1\" class=\"dataframe\">\n",
       "  <thead>\n",
       "    <tr style=\"text-align: right;\">\n",
       "      <th></th>\n",
       "      <th>Id</th>\n",
       "      <th>PID</th>\n",
       "      <th>MS SubClass</th>\n",
       "      <th>MS Zoning</th>\n",
       "      <th>Lot Frontage</th>\n",
       "      <th>Lot Area</th>\n",
       "      <th>Street</th>\n",
       "      <th>Alley</th>\n",
       "      <th>Lot Shape</th>\n",
       "      <th>Land Contour</th>\n",
       "      <th>...</th>\n",
       "      <th>Screen Porch</th>\n",
       "      <th>Pool Area</th>\n",
       "      <th>Pool QC</th>\n",
       "      <th>Fence</th>\n",
       "      <th>Misc Feature</th>\n",
       "      <th>Misc Val</th>\n",
       "      <th>Mo Sold</th>\n",
       "      <th>Yr Sold</th>\n",
       "      <th>Sale Type</th>\n",
       "      <th>SalePrice</th>\n",
       "    </tr>\n",
       "  </thead>\n",
       "  <tbody>\n",
       "    <tr>\n",
       "      <th>2046</th>\n",
       "      <td>1587</td>\n",
       "      <td>921126030</td>\n",
       "      <td>20</td>\n",
       "      <td>RL</td>\n",
       "      <td>79.0</td>\n",
       "      <td>11449</td>\n",
       "      <td>Pave</td>\n",
       "      <td>NaN</td>\n",
       "      <td>IR1</td>\n",
       "      <td>HLS</td>\n",
       "      <td>...</td>\n",
       "      <td>0</td>\n",
       "      <td>0</td>\n",
       "      <td>NaN</td>\n",
       "      <td>NaN</td>\n",
       "      <td>NaN</td>\n",
       "      <td>0</td>\n",
       "      <td>1</td>\n",
       "      <td>2008</td>\n",
       "      <td>WD</td>\n",
       "      <td>298751</td>\n",
       "    </tr>\n",
       "    <tr>\n",
       "      <th>2047</th>\n",
       "      <td>785</td>\n",
       "      <td>905377130</td>\n",
       "      <td>30</td>\n",
       "      <td>RL</td>\n",
       "      <td>NaN</td>\n",
       "      <td>12342</td>\n",
       "      <td>Pave</td>\n",
       "      <td>NaN</td>\n",
       "      <td>IR1</td>\n",
       "      <td>Lvl</td>\n",
       "      <td>...</td>\n",
       "      <td>0</td>\n",
       "      <td>0</td>\n",
       "      <td>NaN</td>\n",
       "      <td>NaN</td>\n",
       "      <td>NaN</td>\n",
       "      <td>0</td>\n",
       "      <td>3</td>\n",
       "      <td>2009</td>\n",
       "      <td>WD</td>\n",
       "      <td>82500</td>\n",
       "    </tr>\n",
       "    <tr>\n",
       "      <th>2048</th>\n",
       "      <td>916</td>\n",
       "      <td>909253010</td>\n",
       "      <td>50</td>\n",
       "      <td>RL</td>\n",
       "      <td>57.0</td>\n",
       "      <td>7558</td>\n",
       "      <td>Pave</td>\n",
       "      <td>NaN</td>\n",
       "      <td>Reg</td>\n",
       "      <td>Bnk</td>\n",
       "      <td>...</td>\n",
       "      <td>0</td>\n",
       "      <td>0</td>\n",
       "      <td>NaN</td>\n",
       "      <td>NaN</td>\n",
       "      <td>NaN</td>\n",
       "      <td>0</td>\n",
       "      <td>3</td>\n",
       "      <td>2009</td>\n",
       "      <td>WD</td>\n",
       "      <td>177000</td>\n",
       "    </tr>\n",
       "    <tr>\n",
       "      <th>2049</th>\n",
       "      <td>639</td>\n",
       "      <td>535179160</td>\n",
       "      <td>20</td>\n",
       "      <td>RL</td>\n",
       "      <td>80.0</td>\n",
       "      <td>10400</td>\n",
       "      <td>Pave</td>\n",
       "      <td>NaN</td>\n",
       "      <td>Reg</td>\n",
       "      <td>Lvl</td>\n",
       "      <td>...</td>\n",
       "      <td>0</td>\n",
       "      <td>0</td>\n",
       "      <td>NaN</td>\n",
       "      <td>NaN</td>\n",
       "      <td>NaN</td>\n",
       "      <td>0</td>\n",
       "      <td>11</td>\n",
       "      <td>2009</td>\n",
       "      <td>WD</td>\n",
       "      <td>144000</td>\n",
       "    </tr>\n",
       "    <tr>\n",
       "      <th>2050</th>\n",
       "      <td>10</td>\n",
       "      <td>527162130</td>\n",
       "      <td>60</td>\n",
       "      <td>RL</td>\n",
       "      <td>60.0</td>\n",
       "      <td>7500</td>\n",
       "      <td>Pave</td>\n",
       "      <td>NaN</td>\n",
       "      <td>Reg</td>\n",
       "      <td>Lvl</td>\n",
       "      <td>...</td>\n",
       "      <td>0</td>\n",
       "      <td>0</td>\n",
       "      <td>NaN</td>\n",
       "      <td>NaN</td>\n",
       "      <td>NaN</td>\n",
       "      <td>0</td>\n",
       "      <td>6</td>\n",
       "      <td>2010</td>\n",
       "      <td>WD</td>\n",
       "      <td>189000</td>\n",
       "    </tr>\n",
       "  </tbody>\n",
       "</table>\n",
       "<p>5 rows × 81 columns</p>\n",
       "</div>"
      ],
      "text/plain": [
       "        Id        PID  MS SubClass MS Zoning  Lot Frontage  Lot Area Street  \\\n",
       "2046  1587  921126030           20        RL          79.0     11449   Pave   \n",
       "2047   785  905377130           30        RL           NaN     12342   Pave   \n",
       "2048   916  909253010           50        RL          57.0      7558   Pave   \n",
       "2049   639  535179160           20        RL          80.0     10400   Pave   \n",
       "2050    10  527162130           60        RL          60.0      7500   Pave   \n",
       "\n",
       "     Alley Lot Shape Land Contour    ...     Screen Porch Pool Area Pool QC  \\\n",
       "2046   NaN       IR1          HLS    ...                0         0     NaN   \n",
       "2047   NaN       IR1          Lvl    ...                0         0     NaN   \n",
       "2048   NaN       Reg          Bnk    ...                0         0     NaN   \n",
       "2049   NaN       Reg          Lvl    ...                0         0     NaN   \n",
       "2050   NaN       Reg          Lvl    ...                0         0     NaN   \n",
       "\n",
       "     Fence Misc Feature Misc Val Mo Sold Yr Sold  Sale Type  SalePrice  \n",
       "2046   NaN          NaN        0       1    2008        WD      298751  \n",
       "2047   NaN          NaN        0       3    2009        WD       82500  \n",
       "2048   NaN          NaN        0       3    2009        WD      177000  \n",
       "2049   NaN          NaN        0      11    2009        WD      144000  \n",
       "2050   NaN          NaN        0       6    2010        WD      189000  \n",
       "\n",
       "[5 rows x 81 columns]"
      ]
     },
     "execution_count": 1212,
     "metadata": {},
     "output_type": "execute_result"
    }
   ],
   "source": [
    "train.tail()"
   ]
  },
  {
   "cell_type": "code",
   "execution_count": 1213,
   "metadata": {},
   "outputs": [],
   "source": [
    "features = ['Neighborhood', 'House Style', 'Lot Config']\n",
    "dummies = mega[features]\n",
    "\n",
    "dummies = pd.get_dummies(dummies, columns=features, drop_first=True)"
   ]
  },
  {
   "cell_type": "code",
   "execution_count": 1214,
   "metadata": {},
   "outputs": [
    {
     "data": {
      "text/plain": [
       "((2051, 39), (879, 39))"
      ]
     },
     "execution_count": 1214,
     "metadata": {},
     "output_type": "execute_result"
    }
   ],
   "source": [
    "mega2 = pd.concat([mega['Lot Area'], dummies], axis=1)\n",
    "\n",
    "train2 = mega2.iloc[:len(train)]\n",
    "test2 = mega2.iloc[len(train):]\n",
    "\n",
    "train2.shape, test2.shape"
   ]
  },
  {
   "cell_type": "code",
   "execution_count": 1215,
   "metadata": {},
   "outputs": [],
   "source": [
    "y = train['SalePrice']\n",
    "X_train, X_test, y_train, y_test = train_test_split(train2, y, random_state=64)"
   ]
  },
  {
   "cell_type": "code",
   "execution_count": 1216,
   "metadata": {},
   "outputs": [
    {
     "data": {
      "text/plain": [
       "((1538, 39), (513, 39))"
      ]
     },
     "execution_count": 1216,
     "metadata": {},
     "output_type": "execute_result"
    }
   ],
   "source": [
    "X_train.shape, X_test.shape"
   ]
  },
  {
   "cell_type": "code",
   "execution_count": 1217,
   "metadata": {},
   "outputs": [],
   "source": [
    "ss = StandardScaler()\n",
    "pf = PolynomialFeatures(include_bias=False)\n",
    "lasso = LassoCV()"
   ]
  },
  {
   "cell_type": "code",
   "execution_count": 1218,
   "metadata": {},
   "outputs": [],
   "source": [
    "pipe_pf = Pipeline([\n",
    "    ('ss',ss),\n",
    "    ('pf', pf),\n",
    "    ('lasso',lasso)\n",
    "])"
   ]
  },
  {
   "cell_type": "code",
   "execution_count": 1219,
   "metadata": {
    "scrolled": false
   },
   "outputs": [
    {
     "name": "stderr",
     "output_type": "stream",
     "text": [
      "C:\\Users\\james\\Anaconda3\\envs\\dsi\\lib\\site-packages\\sklearn\\linear_model\\coordinate_descent.py:491: ConvergenceWarning: Objective did not converge. You might want to increase the number of iterations. Fitting data with very small alpha may cause precision problems.\n",
      "  ConvergenceWarning)\n",
      "C:\\Users\\james\\Anaconda3\\envs\\dsi\\lib\\site-packages\\sklearn\\linear_model\\coordinate_descent.py:491: ConvergenceWarning: Objective did not converge. You might want to increase the number of iterations. Fitting data with very small alpha may cause precision problems.\n",
      "  ConvergenceWarning)\n",
      "C:\\Users\\james\\Anaconda3\\envs\\dsi\\lib\\site-packages\\sklearn\\linear_model\\coordinate_descent.py:491: ConvergenceWarning: Objective did not converge. You might want to increase the number of iterations. Fitting data with very small alpha may cause precision problems.\n",
      "  ConvergenceWarning)\n",
      "C:\\Users\\james\\Anaconda3\\envs\\dsi\\lib\\site-packages\\sklearn\\linear_model\\coordinate_descent.py:491: ConvergenceWarning: Objective did not converge. You might want to increase the number of iterations. Fitting data with very small alpha may cause precision problems.\n",
      "  ConvergenceWarning)\n",
      "C:\\Users\\james\\Anaconda3\\envs\\dsi\\lib\\site-packages\\sklearn\\linear_model\\coordinate_descent.py:491: ConvergenceWarning: Objective did not converge. You might want to increase the number of iterations. Fitting data with very small alpha may cause precision problems.\n",
      "  ConvergenceWarning)\n",
      "C:\\Users\\james\\Anaconda3\\envs\\dsi\\lib\\site-packages\\sklearn\\linear_model\\coordinate_descent.py:491: ConvergenceWarning: Objective did not converge. You might want to increase the number of iterations. Fitting data with very small alpha may cause precision problems.\n",
      "  ConvergenceWarning)\n"
     ]
    },
    {
     "name": "stdout",
     "output_type": "stream",
     "text": [
      "0.6235358527739071\n",
      "{'pf__interaction_only': 'True'}\n"
     ]
    }
   ],
   "source": [
    "params_pf = {\n",
    "    'pf__interaction_only':['True','False'],\n",
    "}\n",
    "\n",
    "gs_pf = GridSearchCV(pipe_pf, param_grid=params_pf)\n",
    "gs_pf.fit(X_train, y_train)\n",
    "\n",
    "print(gs_pf.best_score_)\n",
    "print(gs_pf.best_params_)"
   ]
  },
  {
   "cell_type": "code",
   "execution_count": 1220,
   "metadata": {},
   "outputs": [
    {
     "data": {
      "text/plain": [
       "0.6434759274512923"
      ]
     },
     "execution_count": 1220,
     "metadata": {},
     "output_type": "execute_result"
    }
   ],
   "source": [
    "gs_pf.score(X_test, y_test)"
   ]
  },
  {
   "cell_type": "markdown",
   "metadata": {},
   "source": [
    "## New tactic: Pools... and when it's hot."
   ]
  },
  {
   "cell_type": "code",
   "execution_count": 1221,
   "metadata": {
    "scrolled": true
   },
   "outputs": [
    {
     "data": {
      "image/png": "[encoded data removed]",
      "text/plain": [
       "<Figure size 432x288 with 1 Axes>"
      ]
     },
     "metadata": {},
     "output_type": "display_data"
    }
   ],
   "source": [
    "train.boxplot(column='SalePrice', by='Pool QC');"
   ]
  },
  {
   "cell_type": "code",
   "execution_count": 1222,
   "metadata": {
    "scrolled": true
   },
   "outputs": [],
   "source": [
    "pools = train.copy()\n",
    "pools['Pool QC'] = pools['Pool QC'].fillna('NA')"
   ]
  },
  {
   "cell_type": "code",
   "execution_count": 1223,
   "metadata": {
    "scrolled": true
   },
   "outputs": [
    {
     "data": {
      "image/png": "[encoded data removed]",
      "text/plain": [
       "<Figure size 432x288 with 1 Axes>"
      ]
     },
     "metadata": {},
     "output_type": "display_data"
    }
   ],
   "source": [
    "pools.boxplot(column='SalePrice', by='Pool QC');"
   ]
  },
  {
   "cell_type": "code",
   "execution_count": 1224,
   "metadata": {},
   "outputs": [
    {
     "data": {
      "image/png": "[encoded data removed]",
      "text/plain": [
       "<Figure size 432x288 with 1 Axes>"
      ]
     },
     "metadata": {},
     "output_type": "display_data"
    }
   ],
   "source": [
    "plt.bar(x=pools['Mo Sold'].value_counts().sort_index().index, height=pools['Mo Sold'].value_counts().sort_index());"
   ]
  },
  {
   "cell_type": "code",
   "execution_count": 1225,
   "metadata": {},
   "outputs": [],
   "source": [
    "summer = [5, 6, 7, 8]\n",
    "pools['summer'] = pools['Mo Sold'].map(lambda x: int(1) if x in summer else int(0))"
   ]
  },
  {
   "cell_type": "code",
   "execution_count": 1226,
   "metadata": {},
   "outputs": [],
   "source": [
    "newnew = pd.concat([pools, test])"
   ]
  },
  {
   "cell_type": "code",
   "execution_count": 1227,
   "metadata": {},
   "outputs": [
    {
     "data": {
      "text/plain": [
       "(2930, 82)"
      ]
     },
     "execution_count": 1227,
     "metadata": {},
     "output_type": "execute_result"
    }
   ],
   "source": [
    "newnew.shape"
   ]
  },
  {
   "cell_type": "code",
   "execution_count": 1228,
   "metadata": {},
   "outputs": [],
   "source": [
    "poolsdums = pd.get_dummies(newnew['Neighborhood'], prefix='nbhd', drop_first=True)"
   ]
  },
  {
   "cell_type": "code",
   "execution_count": 1229,
   "metadata": {},
   "outputs": [
    {
     "data": {
      "text/plain": [
       "((2051, 28), (879, 28))"
      ]
     },
     "execution_count": 1229,
     "metadata": {},
     "output_type": "execute_result"
    }
   ],
   "source": [
    "middle = pd.concat([newnew['summer'], poolsdums], axis=1)\n",
    "\n",
    "pools2 = middle.iloc[:len(pools)]\n",
    "test2 = middle.iloc[len(pools):]\n",
    "\n",
    "pools2.shape, test2.shape"
   ]
  },
  {
   "cell_type": "code",
   "execution_count": 1230,
   "metadata": {},
   "outputs": [],
   "source": [
    "# pools2['summer'] = pools2.summer.astype(int)"
   ]
  },
  {
   "cell_type": "code",
   "execution_count": 1231,
   "metadata": {},
   "outputs": [],
   "source": [
    "X = pools2\n",
    "y = pools['SalePrice']\n",
    "X_train, X_test, y_train, y_test = train_test_split(X, y, random_state=64)"
   ]
  },
  {
   "cell_type": "code",
   "execution_count": 1232,
   "metadata": {
    "scrolled": true
   },
   "outputs": [
    {
     "data": {
      "text/plain": [
       "0.5505465352557337"
      ]
     },
     "execution_count": 1232,
     "metadata": {},
     "output_type": "execute_result"
    }
   ],
   "source": [
    "lr = LinearRegression()\n",
    "lr.fit(X_train, y_train)\n",
    "lr.score(X_test, y_test)"
   ]
  },
  {
   "cell_type": "markdown",
   "metadata": {},
   "source": [
    "## 6. Answer Question"
   ]
  },
  {
   "cell_type": "markdown",
   "metadata": {},
   "source": [
    "**Q: Were we able to predict home prices?** \n",
    "\n",
    "A: Somewhat. I wasn't really able to tweak the model to a place where I felt very good about the outputs. My R^2 scores were fairly low (70-80% range) compared to what I think I could achieve. That said, I did follow the data science workflow and was able to predict prices within the expected range. I just wouldn't make an investment strategy out of it :)\n",
    "\n",
    "**Next steps**\n",
    "1. More feature selection and engineering work.\n",
    "    - Involve more categorical variables\n",
    "    - Try polynomial features on more data\n",
    "    - Use `itertools.combinations` to try more variations of feature combos\n",
    "2. Use `GridSearchCV` to more exhaustively tune hyper-parameters\n",
    "3. Try different models!"
   ]
  },
  {
   "cell_type": "code",
   "execution_count": null,
   "metadata": {},
   "outputs": [],
   "source": []
  }
 ],
 "metadata": {
  "kernelspec": {
   "display_name": "Python [conda env:dsi]",
   "language": "python",
   "name": "conda-env-dsi-py"
  },
  "language_info": {
   "codemirror_mode": {
    "name": "ipython",
    "version": 3
   },
   "file_extension": ".py",
   "mimetype": "text/x-python",
   "name": "python",
   "nbconvert_exporter": "python",
   "pygments_lexer": "ipython3",
   "version": "3.6.5"
  }
 },
 "nbformat": 4,
 "nbformat_minor": 2
}
